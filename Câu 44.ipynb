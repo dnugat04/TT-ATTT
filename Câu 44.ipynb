{
 "cells": [
  {
   "cell_type": "code",
   "execution_count": 3,
   "id": "3033e93a-8ee2-4230-b8e8-83c22456a6b3",
   "metadata": {},
   "outputs": [
    {
     "name": "stdin",
     "output_type": "stream",
     "text": [
      "Nhập mảng A :  8 9 10 11 12\n",
      "Nhập số p:  6\n"
     ]
    },
    {
     "name": "stdout",
     "output_type": "stream",
     "text": [
      "8 không có nghịch đảo trong trường F6\n",
      "9 không có nghịch đảo trong trường F6\n",
      "10 không có nghịch đảo trong trường F6\n",
      "12 không có nghịch đảo trong trường F6\n",
      "Mảng B với các phần tử là nghịch đảo của các phần tử tương ứng trong A:\n",
      "[None, None, None, 5, None]\n"
     ]
    }
   ],
   "source": [
    "def extendEuclide(a, b):\n",
    "    if b == 0:\n",
    "        return (a, 1, 0)\n",
    "    else:\n",
    "        g, x, y = extendEuclide(b, a % b)\n",
    "        return (g, y, x - (a // b) * y)\n",
    "\n",
    "def find_modular_inverse(a, p):\n",
    "    g, x, y = extendEuclide(a, p)\n",
    "    if g != 1:\n",
    "        raise ValueError(f\"{a} không có nghịch đảo trong trường F{p}\")\n",
    "    else:\n",
    "        return x % p\n",
    "\n",
    "if __name__ == \"__main__\":\n",
    "    A = list(map(int, input(\"Nhập mảng A : \").split()))\n",
    "    p = int(input(\"Nhập số p: \"))\n",
    "\n",
    "    B = []\n",
    "    for a in A:\n",
    "        try:\n",
    "            inverse = find_modular_inverse(a, p)\n",
    "            B.append(inverse)\n",
    "        except ValueError as e:\n",
    "            print(e)\n",
    "            B.append(None)  # Thêm None vào nếu không có nghịch đảo\n",
    "\n",
    "    print(\"Mảng B với các phần tử là nghịch đảo của các phần tử tương ứng trong A:\")\n",
    "    print(B)\n"
   ]
  },
  {
   "cell_type": "code",
   "execution_count": null,
   "id": "b69f04a4-a250-4f90-9f96-9205b78ec966",
   "metadata": {},
   "outputs": [],
   "source": []
  }
 ],
 "metadata": {
  "kernelspec": {
   "display_name": "Python 3 (ipykernel)",
   "language": "python",
   "name": "python3"
  },
  "language_info": {
   "codemirror_mode": {
    "name": "ipython",
    "version": 3
   },
   "file_extension": ".py",
   "mimetype": "text/x-python",
   "name": "python",
   "nbconvert_exporter": "python",
   "pygments_lexer": "ipython3",
   "version": "3.12.2"
  }
 },
 "nbformat": 4,
 "nbformat_minor": 5
}
