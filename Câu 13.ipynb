{
 "cells": [
  {
   "cell_type": "code",
   "execution_count": 2,
   "id": "ddf5c176-d4e9-4cc5-8f8e-b19ac112e5f3",
   "metadata": {},
   "outputs": [
    {
     "name": "stdin",
     "output_type": "stream",
     "text": [
      "Nhập N:  16\n"
     ]
    },
    {
     "name": "stdout",
     "output_type": "stream",
     "text": [
      "2  -  5\n"
     ]
    }
   ],
   "source": [
    "from math import *\n",
    "def check_prime(num):\n",
    "    if num < 2:\n",
    "        return False\n",
    "    elif num == 2:\n",
    "        return True\n",
    "    else:\n",
    "        for loop in range(2, isqrt(num) + 1):\n",
    "            if num % loop == 0:\n",
    "                return False\n",
    "        return True\n",
    "def check_2prime(num_a):\n",
    "    if check_prime(num_a) and check_prime(num_a + 2) and check_prime(num_a - 2):\n",
    "        return True\n",
    "    return False\n",
    "if __name__ == '__main__':\n",
    "    num_n = int(input(\"Nhập N: \"))\n",
    "    for i in range(1, num_n + 1):\n",
    "        if check_2prime(i):\n",
    "            print(2, \" - \", i)"
   ]
  },
  {
   "cell_type": "code",
   "execution_count": null,
   "id": "796666fd-9a65-4de2-bbe0-94937821fa16",
   "metadata": {},
   "outputs": [],
   "source": []
  }
 ],
 "metadata": {
  "kernelspec": {
   "display_name": "Python 3 (ipykernel)",
   "language": "python",
   "name": "python3"
  },
  "language_info": {
   "codemirror_mode": {
    "name": "ipython",
    "version": 3
   },
   "file_extension": ".py",
   "mimetype": "text/x-python",
   "name": "python",
   "nbconvert_exporter": "python",
   "pygments_lexer": "ipython3",
   "version": "3.12.2"
  }
 },
 "nbformat": 4,
 "nbformat_minor": 5
}
