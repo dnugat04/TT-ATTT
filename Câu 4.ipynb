{
 "cells": [
  {
   "cell_type": "code",
   "execution_count": 2,
   "id": "e07a0e84-78ba-4e1a-8687-3e26436aebaf",
   "metadata": {},
   "outputs": [
    {
     "name": "stdin",
     "output_type": "stream",
     "text": [
      " 1\n",
      " 10\n"
     ]
    },
    {
     "name": "stdout",
     "output_type": "stream",
     "text": [
      "2 3 5 7 "
     ]
    }
   ],
   "source": [
    "from math import *\n",
    "def sieve(a,b):\n",
    "    prime = [True] * 1001\n",
    "    prime[0],prime[1] = False, False\n",
    "    for i in range(2,isqrt(b)+1):\n",
    "        if prime[i]:\n",
    "            for j in range(i*i,b+1,i):\n",
    "                prime[j] = False\n",
    "    count = 0\n",
    "    for p in range(a,b+1):\n",
    "        if prime[p]:\n",
    "            count +=1\n",
    "            print(p,end = ' ' )\n",
    "    #print(count)\n",
    "if __name__ == '__main__':\n",
    "    a = int(input())\n",
    "    b = int(input())\n",
    "    sieve(a,b)"
   ]
  },
  {
   "cell_type": "code",
   "execution_count": null,
   "id": "ab026d40-c297-44c3-a6cd-3fafd9ebec3c",
   "metadata": {},
   "outputs": [],
   "source": []
  }
 ],
 "metadata": {
  "kernelspec": {
   "display_name": "Python 3 (ipykernel)",
   "language": "python",
   "name": "python3"
  },
  "language_info": {
   "codemirror_mode": {
    "name": "ipython",
    "version": 3
   },
   "file_extension": ".py",
   "mimetype": "text/x-python",
   "name": "python",
   "nbconvert_exporter": "python",
   "pygments_lexer": "ipython3",
   "version": "3.12.2"
  }
 },
 "nbformat": 4,
 "nbformat_minor": 5
}
