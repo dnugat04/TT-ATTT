{
 "cells": [
  {
   "cell_type": "code",
   "execution_count": 4,
   "id": "62b4bdbe-a40f-4cf2-819f-6b8c49d98db0",
   "metadata": {},
   "outputs": [
    {
     "name": "stdin",
     "output_type": "stream",
     "text": [
      "Nhập số phần tử của mảng > 0:  5\n",
      "Nhập phần tử A[0]:  5\n",
      "Nhập phần tử A[1]:  15\n",
      "Nhập phần tử A[2]:  7\n",
      "Nhập phần tử A[3]:  49\n",
      "Nhập phần tử A[4]:  25\n"
     ]
    },
    {
     "name": "stdout",
     "output_type": "stream",
     "text": [
      "5  -  15  - GCD:  5\n",
      "5  -  25  - GCD:  5\n",
      "15  -  25  - GCD:  5\n",
      "7  -  49  - GCD:  7\n"
     ]
    }
   ],
   "source": [
    "from math import *\n",
    "def check_prime(num):\n",
    "    if num < 2:\n",
    "        return False\n",
    "    elif num == 2:\n",
    "        return True\n",
    "    else:\n",
    "        for i in range(2, isqrt(num)+ 1):\n",
    "            if num % i == 0:\n",
    "                return False\n",
    "        return True\n",
    "def GCD(a, b):\n",
    "    if a % b == 0:\n",
    "        return b\n",
    "    return GCD(b, a % b)\n",
    "if __name__ == '__main__':\n",
    "    list_A = []\n",
    "    num_n = int(input(\"Nhập số phần tử của mảng > 0: \"))\n",
    "    while num_n < 0:\n",
    "        num_n = int(input(\"Nhập lại số phần tử của mảng > 0: \"))\n",
    "\n",
    "    for i in range(num_n):\n",
    "        list_A.append(int(input(f\"Nhập phần tử A[{i}]: \")))\n",
    "\n",
    "    for i in range(num_n):\n",
    "        for j in range(i + 1, num_n):\n",
    "            if check_prime(GCD(list_A[i], list_A[j])):\n",
    "                print(list_A[i], \" - \", list_A[j], \" - GCD: \", GCD(list_A[i], list_A[j]))"
   ]
  },
  {
   "cell_type": "code",
   "execution_count": null,
   "id": "9683ab93-2195-4f83-9997-6f172f8df26f",
   "metadata": {},
   "outputs": [],
   "source": []
  }
 ],
 "metadata": {
  "kernelspec": {
   "display_name": "Python 3 (ipykernel)",
   "language": "python",
   "name": "python3"
  },
  "language_info": {
   "codemirror_mode": {
    "name": "ipython",
    "version": 3
   },
   "file_extension": ".py",
   "mimetype": "text/x-python",
   "name": "python",
   "nbconvert_exporter": "python",
   "pygments_lexer": "ipython3",
   "version": "3.12.2"
  }
 },
 "nbformat": 4,
 "nbformat_minor": 5
}
