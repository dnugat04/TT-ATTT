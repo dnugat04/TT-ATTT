{
 "cells": [
  {
   "cell_type": "code",
   "execution_count": 1,
   "id": "6a36160c-ab7d-4b2d-b196-b06be33a9876",
   "metadata": {},
   "outputs": [
    {
     "name": "stdout",
     "output_type": "stream",
     "text": [
      "Hai số nguyên tố p và q sau khi sinh ngẫu nhiên là: 839,829 \n",
      "Các số a thỏa mãn: \n",
      "9 10 14 15 22 23 34 42 45 49 62 65 81 84 85 98 "
     ]
    }
   ],
   "source": [
    "import random\n",
    "from math import *\n",
    "def RandomSearch():\n",
    "    n = random.randint(1, 1000)\n",
    "    if n < 2:\n",
    "        return RandomSearch()\n",
    "    for i in range(2, isqrt(n) + 1):\n",
    "        if n % i == 0:\n",
    "            return RandomSearch()\n",
    "    return n\n",
    "def nhanBinhPhuongLap(a,k,n):\n",
    "    b = 1\n",
    "    if k == 0 :\n",
    "        return b\n",
    "    A = a\n",
    "    if k % 2 == 1:\n",
    "        b = a\n",
    "    k = k >> 1\n",
    "    while k > 0:\n",
    "        A = A**2 %n\n",
    "        if k %2 == 1:\n",
    "            b = A*b % n\n",
    "        k = k >> 1\n",
    "    return b\n",
    "def check_prime(n):\n",
    "    if n == 2: return True\n",
    "    elif n < 2 : return False\n",
    "    else:\n",
    "        for i in range(2,isqrt(n)+1):\n",
    "            if n % i == 0:\n",
    "                 return False\n",
    "        return True\n",
    "if __name__ == '__main__':\n",
    "    p = RandomSearch()\n",
    "    q = RandomSearch()\n",
    "    print(f'Hai số nguyên tố p và q sau khi sinh ngẫu nhiên là: {p},{q} ')\n",
    "    print('Các số a thỏa mãn: ')\n",
    "    empty = True\n",
    "    for a in range(100):\n",
    "        if check_prime(nhanBinhPhuongLap(a,p,q)):\n",
    "            print(a, end = ' ' )\n",
    "            empty = False\n",
    "    if empty:\n",
    "        print('Không có số nào' )"
   ]
  },
  {
   "cell_type": "code",
   "execution_count": null,
   "id": "d849d1da-6424-411a-bfba-b9668db7187e",
   "metadata": {},
   "outputs": [],
   "source": []
  }
 ],
 "metadata": {
  "kernelspec": {
   "display_name": "Python 3 (ipykernel)",
   "language": "python",
   "name": "python3"
  },
  "language_info": {
   "codemirror_mode": {
    "name": "ipython",
    "version": 3
   },
   "file_extension": ".py",
   "mimetype": "text/x-python",
   "name": "python",
   "nbconvert_exporter": "python",
   "pygments_lexer": "ipython3",
   "version": "3.12.2"
  }
 },
 "nbformat": 4,
 "nbformat_minor": 5
}
