{
 "cells": [
  {
   "cell_type": "code",
   "execution_count": 2,
   "id": "c824a42b-8017-4087-8672-ab2b2b38dfa6",
   "metadata": {},
   "outputs": [
    {
     "name": "stdin",
     "output_type": "stream",
     "text": [
      "Nhập a:  15\n",
      "Nhập b:  100\n"
     ]
    },
    {
     "name": "stdout",
     "output_type": "stream",
     "text": [
      "Số lượng số nguyên tố:  22\n"
     ]
    }
   ],
   "source": [
    "from math import *\n",
    "prime = [True] * (10**3 +1)\n",
    "def seive():\n",
    "    prime [0] = prime[1] = False\n",
    "    for i in range(2,isqrt(10**3)+1):\n",
    "        if prime[i]:\n",
    "            for j in range(i*i,10**3,i):\n",
    "                prime[j] = False\n",
    "def dem_sieu_nt(a,b):\n",
    "    seive()\n",
    "    count = 0\n",
    "    for num in range(a,b+1):\n",
    "        dem_snt = 0\n",
    "        for i in range(1,num):\n",
    "            if prime[i]:\n",
    "                dem_snt += 1\n",
    "        if prime[dem_snt]:\n",
    "            count +=1\n",
    "    return count\n",
    "if __name__ == '__main__':\n",
    "    a = int(input('Nhập a: '))\n",
    "    b = int(input('Nhập b: '))\n",
    "    print('Số lượng số nguyên tố: ',dem_sieu_nt(a,b))"
   ]
  },
  {
   "cell_type": "code",
   "execution_count": null,
   "id": "ef63c877-023f-4904-8f21-c9a4a9d2ec2b",
   "metadata": {},
   "outputs": [],
   "source": []
  }
 ],
 "metadata": {
  "kernelspec": {
   "display_name": "Python 3 (ipykernel)",
   "language": "python",
   "name": "python3"
  },
  "language_info": {
   "codemirror_mode": {
    "name": "ipython",
    "version": 3
   },
   "file_extension": ".py",
   "mimetype": "text/x-python",
   "name": "python",
   "nbconvert_exporter": "python",
   "pygments_lexer": "ipython3",
   "version": "3.12.2"
  }
 },
 "nbformat": 4,
 "nbformat_minor": 5
}
