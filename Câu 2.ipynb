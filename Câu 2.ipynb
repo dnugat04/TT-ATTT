{
 "cells": [
  {
   "cell_type": "code",
   "execution_count": 1,
   "id": "5657c9bc-5d58-4b82-9be2-3ed0648aa554",
   "metadata": {},
   "outputs": [
    {
     "name": "stdin",
     "output_type": "stream",
     "text": [
      "Nhập n:  2\n"
     ]
    },
    {
     "name": "stdout",
     "output_type": "stream",
     "text": [
      "11 13 17 19 23 29 31 37 41 43 47 53 59 61 67 71 73 79 83 89 97 "
     ]
    }
   ],
   "source": [
    "from math import *\n",
    "prime = [True] * (10**6+1)\n",
    "def seive():\n",
    "    prime[0] = prime[1] = False\n",
    "    for i in range(2,isqrt(10**6)+1):\n",
    "        if prime[i]:\n",
    "            for j in range(i*i,10**6+1,i):\n",
    "                prime[j] = False\n",
    "if __name__ == '__main__':\n",
    "    n = int(input('Nhập n: '))\n",
    "    d = int(pow(10,n-1))\n",
    "    c = int(pow(10,n)-1)\n",
    "    seive()\n",
    "    for i in range(d,c):\n",
    "        if prime[i]:\n",
    "            print(i, end = ' ')"
   ]
  },
  {
   "cell_type": "code",
   "execution_count": null,
   "id": "a4e7a89d-c486-440c-b328-84693c0ec573",
   "metadata": {},
   "outputs": [],
   "source": []
  }
 ],
 "metadata": {
  "kernelspec": {
   "display_name": "Python 3 (ipykernel)",
   "language": "python",
   "name": "python3"
  },
  "language_info": {
   "codemirror_mode": {
    "name": "ipython",
    "version": 3
   },
   "file_extension": ".py",
   "mimetype": "text/x-python",
   "name": "python",
   "nbconvert_exporter": "python",
   "pygments_lexer": "ipython3",
   "version": "3.12.2"
  }
 },
 "nbformat": 4,
 "nbformat_minor": 5
}
