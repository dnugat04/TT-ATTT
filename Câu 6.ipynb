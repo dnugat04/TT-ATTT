{
 "cells": [
  {
   "cell_type": "code",
   "execution_count": 1,
   "id": "15bcefe8-fa7d-4624-994a-473295016abb",
   "metadata": {},
   "outputs": [
    {
     "name": "stdin",
     "output_type": "stream",
     "text": [
      " 1000\n"
     ]
    },
    {
     "name": "stdout",
     "output_type": "stream",
     "text": [
      "220 284\n"
     ]
    }
   ],
   "source": [
    "from math import *\n",
    "def sum(n): # HÀM TÍNH TỔNG N NGOẠI TRỪ N\n",
    "    sum = 1\n",
    "    for i in range(2,isqrt(n)+1):\n",
    "        if n%i==0:\n",
    "            sum += i\n",
    "            if i != n //i:\n",
    "                sum += n //i #dể cộng cặp số ví dụ n = 16 thì có 2 thì 16/2 =8\n",
    "    return sum\n",
    "def find_amicable(n):\n",
    "    amicable_pairs = []\n",
    "    for a in range(2,n):\n",
    "        b = sum(a)\n",
    "        if b > a and b < n :\n",
    "            if sum(b) == a:\n",
    "                amicable_pairs.append((a,b))\n",
    "    return amicable_pairs\n",
    "if __name__ == '__main__':\n",
    "    n = int(input('Nhập n: '))\n",
    "    pair = find_amicable(n)\n",
    "    for i in pair:\n",
    "        print(i[0],i[1])"
   ]
  },
  {
   "cell_type": "code",
   "execution_count": null,
   "id": "3fd8c108-fcfd-4830-be61-26083ccdd027",
   "metadata": {},
   "outputs": [],
   "source": []
  }
 ],
 "metadata": {
  "kernelspec": {
   "display_name": "Python 3 (ipykernel)",
   "language": "python",
   "name": "python3"
  },
  "language_info": {
   "codemirror_mode": {
    "name": "ipython",
    "version": 3
   },
   "file_extension": ".py",
   "mimetype": "text/x-python",
   "name": "python",
   "nbconvert_exporter": "python",
   "pygments_lexer": "ipython3",
   "version": "3.12.2"
  }
 },
 "nbformat": 4,
 "nbformat_minor": 5
}
