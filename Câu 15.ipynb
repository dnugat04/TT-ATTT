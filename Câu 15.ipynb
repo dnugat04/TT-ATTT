{
 "cells": [
  {
   "cell_type": "code",
   "execution_count": 2,
   "id": "4414355e-ee44-4522-8d75-a7a6ff3aeda4",
   "metadata": {},
   "outputs": [
    {
     "name": "stdin",
     "output_type": "stream",
     "text": [
      "Nhập N:  100\n"
     ]
    },
    {
     "name": "stdout",
     "output_type": "stream",
     "text": [
      "Các cặp số thỏa mãn: \n",
      "3  -  5\n",
      "5  -  7\n",
      "11  -  13\n",
      "17  -  19\n",
      "29  -  31\n",
      "41  -  43\n",
      "59  -  61\n",
      "71  -  73\n"
     ]
    }
   ],
   "source": [
    "from math import *\n",
    "def check_prime(num):\n",
    "    if num < 2:\n",
    "        return False\n",
    "    elif num == 2:\n",
    "        return True\n",
    "    else:\n",
    "        for loop in range(2, isqrt(num) + 1):\n",
    "            if num % loop == 0:\n",
    "                return False\n",
    "        return True\n",
    "def check_2prime(num):\n",
    "    if check_prime(num) and check_prime(num + 2):\n",
    "        return True\n",
    "    return False\n",
    "if __name__ == '__main__':\n",
    "    num_n = int(input(\"Nhập N: \"))\n",
    "    print('Các cặp số thỏa mãn: ')\n",
    "    for i in range(2, num_n):\n",
    "        if check_2prime(i):\n",
    "            print(i, \" - \", i + 2)"
   ]
  },
  {
   "cell_type": "code",
   "execution_count": null,
   "id": "873dbec0-6e9c-4eb8-8fa0-4b9b00ccc1f9",
   "metadata": {},
   "outputs": [],
   "source": []
  }
 ],
 "metadata": {
  "kernelspec": {
   "display_name": "Python 3 (ipykernel)",
   "language": "python",
   "name": "python3"
  },
  "language_info": {
   "codemirror_mode": {
    "name": "ipython",
    "version": 3
   },
   "file_extension": ".py",
   "mimetype": "text/x-python",
   "name": "python",
   "nbconvert_exporter": "python",
   "pygments_lexer": "ipython3",
   "version": "3.12.2"
  }
 },
 "nbformat": 4,
 "nbformat_minor": 5
}
