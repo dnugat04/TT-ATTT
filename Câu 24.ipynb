{
 "cells": [
  {
   "cell_type": "code",
   "execution_count": 2,
   "id": "915ad103-07d2-42a4-8854-12d5fbb6b21d",
   "metadata": {},
   "outputs": [
    {
     "name": "stdin",
     "output_type": "stream",
     "text": [
      "Nhập a:  10\n",
      "Nhập b:  15\n"
     ]
    },
    {
     "name": "stdout",
     "output_type": "stream",
     "text": [
      "1 "
     ]
    }
   ],
   "source": [
    "from math import *\n",
    "def seive(n):\n",
    "    prime = [True for i in range(0,n+1)]\n",
    "    prime[0] = prime[1] = False\n",
    "    for i in range(2,isqrt(n)+1):\n",
    "        if prime[i]:\n",
    "            for j in range(i*i,n+1,i):\n",
    "                prime[j] = False\n",
    "    return prime\n",
    "if __name__ == '__main__':\n",
    "    a = int(input('Nhập a: '))\n",
    "    b = int(input('Nhập b: '))\n",
    "    prime = seive(b)\n",
    "    res = []\n",
    "    count = 0\n",
    "    for i in range(1,isqrt(b)+1):\n",
    "        if i*i < b:\n",
    "            for j in range(1, isqrt(b)+1):\n",
    "                if a <= i*i + j*j <= b and prime[i*i + j*j]:\n",
    "                    res.append(i*i+j*j)\n",
    "    res = list(set(res))\n",
    "    res.sort()\n",
    "    if len(res) == 0:\n",
    "        print(\"không có số nào\")\n",
    "    else:\n",
    "        for i in res:\n",
    "            count += 1\n",
    "            #print(i, end = ' ')\n",
    "        print(count, end = ' ' )"
   ]
  },
  {
   "cell_type": "code",
   "execution_count": null,
   "id": "acfb86e9-09fb-4c85-a1e0-b88faf646daa",
   "metadata": {},
   "outputs": [],
   "source": []
  }
 ],
 "metadata": {
  "kernelspec": {
   "display_name": "Python 3 (ipykernel)",
   "language": "python",
   "name": "python3"
  },
  "language_info": {
   "codemirror_mode": {
    "name": "ipython",
    "version": 3
   },
   "file_extension": ".py",
   "mimetype": "text/x-python",
   "name": "python",
   "nbconvert_exporter": "python",
   "pygments_lexer": "ipython3",
   "version": "3.12.2"
  }
 },
 "nbformat": 4,
 "nbformat_minor": 5
}
