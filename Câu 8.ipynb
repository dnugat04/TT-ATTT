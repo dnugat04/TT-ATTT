{
 "cells": [
  {
   "cell_type": "code",
   "execution_count": 3,
   "id": "c3a11849-6914-4894-b744-2f4ace25871a",
   "metadata": {},
   "outputs": [
    {
     "name": "stdin",
     "output_type": "stream",
     "text": [
      "Nhập n:  1000\n"
     ]
    },
    {
     "name": "stdout",
     "output_type": "stream",
     "text": [
      "Các số thỏa mãn: \n",
      "4\n",
      "9\n",
      "25\n",
      "49\n",
      "121\n",
      "169\n",
      "289\n",
      "361\n",
      "529\n",
      "841\n",
      "961\n"
     ]
    }
   ],
   "source": [
    "from math import *\n",
    "def count_Tprime(n):\n",
    "    count = 0\n",
    "    for i in range(1,isqrt(n)+1):\n",
    "        if n%i==0: \n",
    "            if i*i == n:\n",
    "                count +=1\n",
    "            else:\n",
    "                count +=2\n",
    "    return count\n",
    "if __name__ == '__main__':\n",
    "    n = int(input('Nhập n: '))\n",
    "    print('Các số thỏa mãn: ' )\n",
    "    for i in range(1,n+1): 3:\n",
    "        if count_Tprime(i) ==\n",
    "            print(i)"
   ]
  },
  {
   "cell_type": "code",
   "execution_count": null,
   "id": "69bc2cb9-824f-4602-af43-fa0f6c79d034",
   "metadata": {},
   "outputs": [],
   "source": []
  }
 ],
 "metadata": {
  "kernelspec": {
   "display_name": "Python 3 (ipykernel)",
   "language": "python",
   "name": "python3"
  },
  "language_info": {
   "codemirror_mode": {
    "name": "ipython",
    "version": 3
   },
   "file_extension": ".py",
   "mimetype": "text/x-python",
   "name": "python",
   "nbconvert_exporter": "python",
   "pygments_lexer": "ipython3",
   "version": "3.12.2"
  }
 },
 "nbformat": 4,
 "nbformat_minor": 5
}
