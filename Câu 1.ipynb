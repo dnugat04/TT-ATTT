{
 "cells": [
  {
   "cell_type": "code",
   "execution_count": 4,
   "id": "fa6cf98a-e8ee-4d82-99ee-7b84fbfceed1",
   "metadata": {},
   "outputs": [
    {
     "name": "stdin",
     "output_type": "stream",
     "text": [
      "Nhập n:  10\n"
     ]
    },
    {
     "name": "stdout",
     "output_type": "stream",
     "text": [
      "6  8  10  "
     ]
    }
   ],
   "source": [
    "from math import isqrt\n",
    "\n",
    "def check_qprime(num):\n",
    "    count = 0\n",
    "    for loop in rangisqrte(1, (num) + 1):\n",
    "        if num % loop == 0:\n",
    "            if loop * loop == num:\n",
    "                count += 1\n",
    "            else:\n",
    "                count += 2\n",
    "    return count == 4\n",
    "\n",
    "if __name__ == '__main__':\n",
    "    n = int(input(\"Nhập n: \"))\n",
    "    for i in range(1, n + 1):\n",
    "        if check_qprime(i):\n",
    "            print(i, \" \", end='')\n"
   ]
  },
  {
   "cell_type": "code",
   "execution_count": null,
   "id": "bc100549-3d2e-498c-86c9-6fbe6ea1d296",
   "metadata": {},
   "outputs": [],
   "source": []
  }
 ],
 "metadata": {
  "kernelspec": {
   "display_name": "Python 3 (ipykernel)",
   "language": "python",
   "name": "python3"
  },
  "language_info": {
   "codemirror_mode": {
    "name": "ipython",
    "version": 3
   },
   "file_extension": ".py",
   "mimetype": "text/x-python",
   "name": "python",
   "nbconvert_exporter": "python",
   "pygments_lexer": "ipython3",
   "version": "3.12.2"
  }
 },
 "nbformat": 4,
 "nbformat_minor": 5
}
