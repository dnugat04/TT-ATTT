{
 "cells": [
  {
   "cell_type": "code",
   "execution_count": 1,
   "id": "0a5289ae-29db-42d9-a9b5-019d5f0fc0f1",
   "metadata": {},
   "outputs": [
    {
     "name": "stdin",
     "output_type": "stream",
     "text": [
      "Nhập n:  17\n"
     ]
    },
    {
     "name": "stdout",
     "output_type": "stream",
     "text": [
      "Số nguyên tố p sinh ngẫu nhiên: 727\n",
      "Các số a thỏa mãn: \n",
      "3 4 9 10 11 12 "
     ]
    }
   ],
   "source": [
    "import random\n",
    "from math import *\n",
    "def RandomSearch():\n",
    "    n = random.randint(1, 1000)\n",
    "    if n < 2:\n",
    "        return RandomSearch()\n",
    "    for i in range(2, isqrt(n) + 1):\n",
    "        if n % i == 0:\n",
    "            return RandomSearch()\n",
    "    return n\n",
    "def nhanBinhPhuongLap(a,k,n):\n",
    "    b = 1\n",
    "    if k == 0 :\n",
    "        return b\n",
    "    A = a\n",
    "    if k % 2 == 1:\n",
    "        b = a\n",
    "    k = k >> 1\n",
    "    while k > 0:\n",
    "        A = A**2 %n\n",
    "        if k %2 == 1:\n",
    "            b = A*b % n\n",
    "        k = k >> 1\n",
    "    return b\n",
    "def check_prime(n):\n",
    "    if n == 2: return True\n",
    "    elif n < 2 : return False\n",
    "    else:\n",
    "        for i in range(2,isqrt(n)+1):\n",
    "            if n % i == 0:\n",
    "                 return False\n",
    "        return True\n",
    "if __name__ == '__main__':\n",
    "    n = int(input('Nhập n: '))\n",
    "    p = RandomSearch()\n",
    "    print(f'Số nguyên tố p sinh ngẫu nhiên: {p}')\n",
    "    print('Các số a thỏa mãn: ')\n",
    "    empty = True\n",
    "    for a in range(1,n):\n",
    "        if check_prime(nhanBinhPhuongLap(a,p,n)):\n",
    "            print(a, end = ' ')\n",
    "            empty = False\n",
    "    if empty:\n",
    "        print('không có số thỏa mãn')"
   ]
  },
  {
   "cell_type": "code",
   "execution_count": null,
   "id": "70412fff-d209-44ca-a6fb-16e88c650013",
   "metadata": {},
   "outputs": [],
   "source": []
  }
 ],
 "metadata": {
  "kernelspec": {
   "display_name": "Python 3 (ipykernel)",
   "language": "python",
   "name": "python3"
  },
  "language_info": {
   "codemirror_mode": {
    "name": "ipython",
    "version": 3
   },
   "file_extension": ".py",
   "mimetype": "text/x-python",
   "name": "python",
   "nbconvert_exporter": "python",
   "pygments_lexer": "ipython3",
   "version": "3.12.2"
  }
 },
 "nbformat": 4,
 "nbformat_minor": 5
}
