{
 "cells": [
  {
   "cell_type": "code",
   "execution_count": 2,
   "id": "fddd7d25-4444-4eb5-b1ef-591778a811d7",
   "metadata": {},
   "outputs": [
    {
     "name": "stdin",
     "output_type": "stream",
     "text": [
      " 30\n",
      " 5\n"
     ]
    },
    {
     "name": "stdout",
     "output_type": "stream",
     "text": [
      "[2, 2, 2, 5, 19]\n",
      "[2, 2, 2, 7, 17]\n",
      "[2, 2, 2, 11, 13]\n",
      "[2, 3, 3, 3, 19]\n",
      "[2, 3, 3, 5, 17]\n",
      "[2, 3, 3, 11, 11]\n",
      "[2, 3, 5, 7, 13]\n",
      "[2, 3, 7, 7, 11]\n",
      "[2, 5, 5, 5, 13]\n",
      "[2, 5, 5, 7, 11]\n",
      "[2, 7, 7, 7, 7]\n"
     ]
    }
   ],
   "source": [
    "from math import *\n",
    "def check_snt(n):\n",
    "    if n == 2: return True\n",
    "    elif n<2: return False\n",
    "    else:\n",
    "        for i in range(2,isqrt(n)+1):\n",
    "            if n % i == 0:\n",
    "                return False\n",
    "        return True\n",
    "def list_snt(n):\n",
    "    l = []\n",
    "    for i in range(2,n):\n",
    "        if check_snt(i):\n",
    "            l.append(i)\n",
    "    return l\n",
    "\"\"\"\n",
    "l: danh sách snt\n",
    "m: số lượng phần tử cần có của tập hợp\n",
    "target: tổng\n",
    "path: danh sách hiện tại\n",
    "res: chứa tất cả tổ hợp thỏa mãn đk\n",
    "\"\"\"\n",
    "def find(l, m, target, path, res): #tìm tất các tổ hợp của các snt trong danh sách l sao cho tổng của các phần tử trong tổ hợp đó = target và tổ hợp có đúng n phần tử\n",
    "    if target == 0 and len(path) == m:\n",
    "        res.append(path)\n",
    "        return\n",
    "    if target < 0 or len(path) > m:\n",
    "        return\n",
    "    for i in range(len(l)):\n",
    "        find(l[i:], m, target - l[i], path + [l[i]], res) #gọi đẹ quy hàm find với danh sách các ptu bắt đầu từ vị trí hiện tại, giảm target đi giá trị ptu htai\n",
    "#thêm ptu vào path, tiếp tục tìm kiếm\n",
    "def solve(n,m): # sử dụng hàm find để tìm các tổ hợp các snt tm\n",
    "    listRes = []\n",
    "    listPr = list_snt(n)\n",
    "    find(listPr, m, n, [], listRes) \n",
    "    return listRes\n",
    "def layNthoaman():\n",
    "    n = int(input())\n",
    "    while n<1 or n>10000:\n",
    "        n = int(input('Vui lòng nhập vào số thỏa mãn: '))\n",
    "    return n\n",
    "def layMthoaman():\n",
    "    n = int(input())\n",
    "    while n<2 or n >100:\n",
    "        n = int(input('Vui lòng nhập vào số thỏa mãn: '))\n",
    "    return n\n",
    "if __name__ == '__main__':\n",
    "    n = layNthoaman()\n",
    "    m = layMthoaman()\n",
    "    listRes = solve(n,m)\n",
    "    if len(listRes) != 0:\n",
    "        for res in listRes:\n",
    "            print(res)\n",
    "    else:\n",
    "        print('Không thể phân tích')"
   ]
  },
  {
   "cell_type": "code",
   "execution_count": null,
   "id": "56d2dba0-4f91-4707-8fec-e3bf7d15109b",
   "metadata": {},
   "outputs": [],
   "source": []
  }
 ],
 "metadata": {
  "kernelspec": {
   "display_name": "Python 3 (ipykernel)",
   "language": "python",
   "name": "python3"
  },
  "language_info": {
   "codemirror_mode": {
    "name": "ipython",
    "version": 3
   },
   "file_extension": ".py",
   "mimetype": "text/x-python",
   "name": "python",
   "nbconvert_exporter": "python",
   "pygments_lexer": "ipython3",
   "version": "3.12.2"
  }
 },
 "nbformat": 4,
 "nbformat_minor": 5
}
