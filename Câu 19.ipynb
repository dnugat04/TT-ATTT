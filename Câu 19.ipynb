{
 "cells": [
  {
   "cell_type": "code",
   "execution_count": 1,
   "id": "b40f3c7c-43df-4b21-8aee-1f14bc08f8f8",
   "metadata": {},
   "outputs": [
    {
     "name": "stdin",
     "output_type": "stream",
     "text": [
      "Nhập giá trị A:  3\n",
      "Nhập giá trị B:  5 \n",
      "Nhập giá trị C:  6\n",
      "Nhập giá trị m:  8\n",
      "Nhập giá trị l:  20\n"
     ]
    },
    {
     "name": "stdout",
     "output_type": "stream",
     "text": [
      "Không có giá trị thỏa mãn trong khoảng này!\n"
     ]
    }
   ],
   "source": [
    "from math import *\n",
    "def check_prime(num):\n",
    "    if num < 2:\n",
    "        return False\n",
    "    elif num == 2:\n",
    "        return True\n",
    "    else:\n",
    "        for loop in range(2, isqrt(num) + 1):\n",
    "            if num % loop == 0:\n",
    "                return False\n",
    "        return True\n",
    "if __name__ == '__main__':\n",
    "    num_a = int(input(\"Nhập giá trị A: \"))\n",
    "    num_b = int(input(\"Nhập giá trị B: \"))\n",
    "    num_c = int(input(\"Nhập giá trị C: \"))\n",
    "    num_m = int(input(\"Nhập giá trị m: \"))\n",
    "    num_l = int(input(\"Nhập giá trị l: \"))\n",
    "    check = 0\n",
    "    for num_x in range(num_m, num_l + 1):\n",
    "        val = num_a * (num_x ** 2) + num_b * num_x + num_c\n",
    "        if check_prime(val):\n",
    "            check = 1\n",
    "            print(\"Giá trị là:\", num_x, \" - Giá trị của biểu thức tại x =\", num_x, \"là:\", val)\n",
    "    if check == 0:\n",
    "        print(\"Không có giá trị thỏa mãn trong khoảng này!\")"
   ]
  },
  {
   "cell_type": "code",
   "execution_count": null,
   "id": "d830b3b8-57d7-4236-bcfe-050394aa9b33",
   "metadata": {},
   "outputs": [],
   "source": []
  }
 ],
 "metadata": {
  "kernelspec": {
   "display_name": "Python 3 (ipykernel)",
   "language": "python",
   "name": "python3"
  },
  "language_info": {
   "codemirror_mode": {
    "name": "ipython",
    "version": 3
   },
   "file_extension": ".py",
   "mimetype": "text/x-python",
   "name": "python",
   "nbconvert_exporter": "python",
   "pygments_lexer": "ipython3",
   "version": "3.12.2"
  }
 },
 "nbformat": 4,
 "nbformat_minor": 5
}
