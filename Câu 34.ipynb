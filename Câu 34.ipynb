{
 "cells": [
  {
   "cell_type": "code",
   "execution_count": 1,
   "id": "aeca0f21-a266-4277-a43d-c9d2235a8705",
   "metadata": {},
   "outputs": [
    {
     "name": "stdin",
     "output_type": "stream",
     "text": [
      "Nhập n:  15641541552219\n",
      "Nhập số lần kiểm tra:  5\n"
     ]
    },
    {
     "name": "stdout",
     "output_type": "stream",
     "text": [
      "15641541552219 không phải là số nguyên tố\n"
     ]
    }
   ],
   "source": [
    "from math import *\n",
    "import random\n",
    "def nhanBinhPhuongLap(a,k,n):\n",
    "    b = 1\n",
    "    if k == 0: \n",
    "        return b\n",
    "    A = a\n",
    "    if k % 2 == 1:\n",
    "        b = a\n",
    "    k = k >> 1\n",
    "    while k > 0:\n",
    "        A = A**2 %n\n",
    "        if k % 2 == 1:\n",
    "            b = A*b % n\n",
    "        k = k >> 1\n",
    "    return b\n",
    "def isPrimeFermat(n,t):\n",
    "    if n == 2: return True\n",
    "    if n < 2 or n % 2 == 0: return False\n",
    "    for i in range(t):\n",
    "        a = random.randint(2,n-2)\n",
    "        if nhanBinhPhuongLap(a,n-1,n) != 1:\n",
    "            return False\n",
    "    return True\n",
    "if __name__ == '__main__':\n",
    "    n = int(input('Nhập n: '))\n",
    "    t = int(input('Nhập số lần kiểm tra: ' ))\n",
    "    if isPrimeFermat(n,t):\n",
    "            print(f'{n} là số nguyên tố')\n",
    "    else: print(f'{n} không phải là số nguyên tố')"
   ]
  },
  {
   "cell_type": "code",
   "execution_count": null,
   "id": "7d2a486e-c0ba-4152-8817-f11d3db7fc7c",
   "metadata": {},
   "outputs": [],
   "source": []
  }
 ],
 "metadata": {
  "kernelspec": {
   "display_name": "Python 3 (ipykernel)",
   "language": "python",
   "name": "python3"
  },
  "language_info": {
   "codemirror_mode": {
    "name": "ipython",
    "version": 3
   },
   "file_extension": ".py",
   "mimetype": "text/x-python",
   "name": "python",
   "nbconvert_exporter": "python",
   "pygments_lexer": "ipython3",
   "version": "3.12.2"
  }
 },
 "nbformat": 4,
 "nbformat_minor": 5
}
