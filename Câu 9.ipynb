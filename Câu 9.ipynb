{
 "cells": [
  {
   "cell_type": "code",
   "execution_count": 2,
   "id": "af03b897-67a2-4d3e-96ba-939b314be20f",
   "metadata": {},
   "outputs": [
    {
     "name": "stdin",
     "output_type": "stream",
     "text": [
      "Nhập n:  200\n"
     ]
    },
    {
     "name": "stdout",
     "output_type": "stream",
     "text": [
      "Số lượng số nguyên tố  46\n"
     ]
    }
   ],
   "source": [
    "from math import *\n",
    "def sieve(n):\n",
    "    prime = [True] * 1001\n",
    "    prime[0],prime[1] = False,False\n",
    "    for i in range(2,isqrt(n)+1):\n",
    "        if prime[i]:\n",
    "            for j in range(i*i,n+1,i):\n",
    "                prime[j] = False\n",
    "    count = 0\n",
    "    for p in range(1,n+1):\n",
    "        if prime[p]:\n",
    "            count += 1\n",
    "    print('Số lượng số nguyên tố ',count)\n",
    "if __name__ == '__main__':\n",
    "    n = int(input('Nhập n: '))\n",
    "    sieve(n)"
   ]
  },
  {
   "cell_type": "code",
   "execution_count": null,
   "id": "85af6aa9-9aec-4fcb-af2b-85f51059e137",
   "metadata": {},
   "outputs": [],
   "source": []
  }
 ],
 "metadata": {
  "kernelspec": {
   "display_name": "Python 3 (ipykernel)",
   "language": "python",
   "name": "python3"
  },
  "language_info": {
   "codemirror_mode": {
    "name": "ipython",
    "version": 3
   },
   "file_extension": ".py",
   "mimetype": "text/x-python",
   "name": "python",
   "nbconvert_exporter": "python",
   "pygments_lexer": "ipython3",
   "version": "3.12.2"
  }
 },
 "nbformat": 4,
 "nbformat_minor": 5
}
