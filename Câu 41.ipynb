{
 "cells": [
  {
   "cell_type": "code",
   "execution_count": 11,
   "id": "8067ce82-70b3-4334-8af5-a33beedfe422",
   "metadata": {},
   "outputs": [
    {
     "name": "stdin",
     "output_type": "stream",
     "text": [
      "Nhập a:  \n"
     ]
    },
    {
     "ename": "ValueError",
     "evalue": "invalid literal for int() with base 10: ''",
     "output_type": "error",
     "traceback": [
      "\u001b[1;31m---------------------------------------------------------------------------\u001b[0m",
      "\u001b[1;31mValueError\u001b[0m                                Traceback (most recent call last)",
      "Cell \u001b[1;32mIn[11], line 25\u001b[0m\n\u001b[0;32m     23\u001b[0m     \u001b[38;5;28;01mreturn\u001b[39;00m b\n\u001b[0;32m     24\u001b[0m \u001b[38;5;28;01mif\u001b[39;00m \u001b[38;5;18m__name__\u001b[39m \u001b[38;5;241m==\u001b[39m \u001b[38;5;124m'\u001b[39m\u001b[38;5;124m__main__\u001b[39m\u001b[38;5;124m'\u001b[39m:\n\u001b[1;32m---> 25\u001b[0m     a \u001b[38;5;241m=\u001b[39m \u001b[38;5;28;43mint\u001b[39;49m\u001b[43m(\u001b[49m\u001b[38;5;28;43minput\u001b[39;49m\u001b[43m(\u001b[49m\u001b[38;5;124;43m'\u001b[39;49m\u001b[38;5;124;43mNhập a: \u001b[39;49m\u001b[38;5;124;43m'\u001b[39;49m\u001b[43m)\u001b[49m\u001b[43m)\u001b[49m\n\u001b[0;32m     26\u001b[0m     k \u001b[38;5;241m=\u001b[39m \u001b[38;5;28mint\u001b[39m(\u001b[38;5;28minput\u001b[39m(\u001b[38;5;124m'\u001b[39m\u001b[38;5;124mNhập k: \u001b[39m\u001b[38;5;124m'\u001b[39m))\n\u001b[0;32m     27\u001b[0m     n \u001b[38;5;241m=\u001b[39m \u001b[38;5;28mint\u001b[39m(\u001b[38;5;28minput\u001b[39m(\u001b[38;5;124m'\u001b[39m\u001b[38;5;124mNhập n: \u001b[39m\u001b[38;5;124m'\u001b[39m))\n",
      "\u001b[1;31mValueError\u001b[0m: invalid literal for int() with base 10: ''"
     ]
    }
   ],
   "source": [
    "from math import *\n",
    "def check_prime(n):\n",
    "    if n == 2: return True\n",
    "    elif n < 2 : return False\n",
    "    else:\n",
    "        for i in range(2,isqrt(n)+1):\n",
    "            if n % i == 0:\n",
    "                 return False\n",
    "        return True\n",
    "def nhanBinhPhuongLap(a,k,n):\n",
    "    b = 1\n",
    "    if k == 0:\n",
    "        return b\n",
    "    A = a\n",
    "    if k % 2 == 1:\n",
    "        b = a\n",
    "    k = k >> 1\n",
    "    while k > 0:\n",
    "        A = A ** 2 % n\n",
    "        if k % 2 == 1:\n",
    "            b = A*b % n\n",
    "        k = k >> 1\n",
    "    return b\n",
    "if __name__ == '__main__':\n",
    "    a = int(input('Nhập a: '))\n",
    "    k = int(input('Nhập k: '))\n",
    "    n = int(input('Nhập n: '))\n",
    "    if check_prime(nhanBinhPhuongLap(a,k,n)):\n",
    "        print('Là số nguyên tố')\n",
    "    else: print('Không phải số nguyên tố')"
   ]
  },
  {
   "cell_type": "code",
   "execution_count": null,
   "id": "df14b238-6769-4ae8-bc48-d81d7e872d93",
   "metadata": {},
   "outputs": [],
   "source": [
    "#2 7 9"
   ]
  }
 ],
 "metadata": {
  "kernelspec": {
   "display_name": "Python 3 (ipykernel)",
   "language": "python",
   "name": "python3"
  },
  "language_info": {
   "codemirror_mode": {
    "name": "ipython",
    "version": 3
   },
   "file_extension": ".py",
   "mimetype": "text/x-python",
   "name": "python",
   "nbconvert_exporter": "python",
   "pygments_lexer": "ipython3",
   "version": "3.12.2"
  }
 },
 "nbformat": 4,
 "nbformat_minor": 5
}
