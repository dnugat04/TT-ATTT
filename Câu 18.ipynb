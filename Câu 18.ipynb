{
 "cells": [
  {
   "cell_type": "code",
   "execution_count": 1,
   "id": "3ef38168-cfcd-415f-9250-e8fd27209465",
   "metadata": {},
   "outputs": [
    {
     "name": "stdin",
     "output_type": "stream",
     "text": [
      "Nhập vào a:  1545415\n",
      "Nhập vào b:  415415418541\n"
     ]
    },
    {
     "name": "stdout",
     "output_type": "stream",
     "text": [
      "Tổng trên trường Fp: \n",
      "Dạng mảng:  [57, 200, 210, 116]\n",
      "Dạng số nguyên:  969462388\n"
     ]
    }
   ],
   "source": [
    "import math\n",
    "\n",
    "def convertWordByteToDecimal(a, w, p):\n",
    "    n = 0\n",
    "    m = math.ceil(math.log2(p))\n",
    "    t = math.ceil(m / w)\n",
    "    for i in range(t):\n",
    "        n = (n << w) + a[i]\n",
    "    return n\n",
    "\n",
    "def convertDecimalToWordByte(n, w, p):\n",
    "    m = math.ceil(math.log2(p))\n",
    "    t = math.ceil(m / w)\n",
    "    a = []\n",
    "    for i in range(t):\n",
    "        a.append((n >> (w * (t - 1 - i))) & (2**w - 1))\n",
    "    return a\n",
    "\n",
    "def addition(arrA, arrB, w, p):\n",
    "    c = []\n",
    "    m = math.ceil(math.log2(p))\n",
    "    t = math.ceil(m / w)\n",
    "    e = 0\n",
    "    for i in range(t):\n",
    "        s = arrA[i] + arrB[i] + e\n",
    "        c.append(s & (2**w - 1))\n",
    "        e = s >> w\n",
    "    return e, c\n",
    "\n",
    "def subtraction(arrA, arrB, w, p):\n",
    "    c = []\n",
    "    m = math.ceil(math.log2(p))\n",
    "    t = math.ceil(m / w)\n",
    "    e = 0\n",
    "    for i in range(t):\n",
    "        s = arrA[i] - arrB[i] - e\n",
    "        if s < 0:\n",
    "            s += 2**w\n",
    "            e = 1\n",
    "        else:\n",
    "            e = 0\n",
    "        c.append(s)\n",
    "    return e, c\n",
    "\n",
    "def additionInFp(arrA, arrB, w, p):\n",
    "    e, arrC = addition(arrA, arrB, w, p)\n",
    "    if e == 1 or convertWordByteToDecimal(arrC, w, p) >= p:\n",
    "        arrP = convertDecimalToWordByte(p, w, p)\n",
    "        _, arrC = subtraction(arrC, arrP, w, p)\n",
    "    return arrC\n",
    "\n",
    "if __name__ == '__main__':\n",
    "    w = 8\n",
    "    p = 2147483647\n",
    "    a = int(input(\"Nhập vào a: \"))\n",
    "    b = int(input(\"Nhập vào b: \"))\n",
    "    arrA = convertDecimalToWordByte(a, w, p)\n",
    "    arrB = convertDecimalToWordByte(b, w, p)\n",
    "    sum = additionInFp(arrA, arrB, w, p)\n",
    "    print('Tổng trên trường Fp: ')\n",
    "    print('Dạng mảng: ', sum)\n",
    "    print('Dạng số nguyên: ', convertWordByteToDecimal(sum, w, p))"
   ]
  },
  {
   "cell_type": "code",
   "execution_count": null,
   "id": "c2797123-e386-403b-8c92-434f7fd3ea5d",
   "metadata": {},
   "outputs": [],
   "source": []
  }
 ],
 "metadata": {
  "kernelspec": {
   "display_name": "Python 3 (ipykernel)",
   "language": "python",
   "name": "python3"
  },
  "language_info": {
   "codemirror_mode": {
    "name": "ipython",
    "version": 3
   },
   "file_extension": ".py",
   "mimetype": "text/x-python",
   "name": "python",
   "nbconvert_exporter": "python",
   "pygments_lexer": "ipython3",
   "version": "3.12.2"
  }
 },
 "nbformat": 4,
 "nbformat_minor": 5
}
