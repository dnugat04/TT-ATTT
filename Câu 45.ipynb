{
 "cells": [
  {
   "cell_type": "code",
   "execution_count": 1,
   "id": "b2be432a-696b-45cd-a452-939d5f6034ea",
   "metadata": {},
   "outputs": [
    {
     "name": "stdin",
     "output_type": "stream",
     "text": [
      "Nhập N:  15\n"
     ]
    },
    {
     "name": "stdout",
     "output_type": "stream",
     "text": [
      "A = [47, 79, 37, 73, 31, 59, 67, 11, 97, 89, 53, 41, 13, 3, 83]\n",
      "Khoảng cách nhỏ nhất là: 2\n"
     ]
    }
   ],
   "source": [
    "import random\n",
    "\n",
    "def Miller_Rabin(n, k):\n",
    "    if n == 2 or n == 3:\n",
    "        return True\n",
    "    if n <= 1 or n % 2 == 0:\n",
    "        return False\n",
    "    # Tìm s và r sao cho n - 1 = 2^s * r với r là số lẻ\n",
    "    s = 0\n",
    "    r = n - 1\n",
    "    while r % 2 == 0:\n",
    "        s += 1\n",
    "        r //= 2\n",
    "    for _ in range(k):\n",
    "        a = random.randrange(2, n - 1)\n",
    "        y = pow(a, r, n)  # a^r mod n, nhân bình phương có lặp\n",
    "        if y != 1 and y != n - 1:\n",
    "            j = 1\n",
    "            while j <= s - 1 and y != n - 1:\n",
    "                y = (y * y) % n\n",
    "                if y == 1:\n",
    "                    return False\n",
    "                j += 1\n",
    "            if y != n - 1:\n",
    "                return False\n",
    "    return True\n",
    "\n",
    "def sinhMangA(n):\n",
    "    result = []\n",
    "    seen = set()\n",
    "    while len(result) < n:\n",
    "        temp = random.randint(2, 100)\n",
    "        while temp in seen or not Miller_Rabin(temp, 5):\n",
    "            temp = random.randint(2, 100)\n",
    "        result.append(temp)\n",
    "        seen.add(temp)\n",
    "    return result\n",
    "\n",
    "if __name__ == '__main__':\n",
    "    n = int(input('Nhập N: '))\n",
    "    A = sinhMangA(n)\n",
    "    print(f'A = {A}')\n",
    "    A = sorted(A)\n",
    "    m = abs(A[0] - A[1])\n",
    "    for i in range(1, n - 1):\n",
    "        m = min(m, abs(A[i] - A[i + 1]))\n",
    "    print(f'Khoảng cách nhỏ nhất là: {m}')\n"
   ]
  },
  {
   "cell_type": "code",
   "execution_count": null,
   "id": "19f802cc-b813-4789-9821-37f7f8c5d99c",
   "metadata": {},
   "outputs": [],
   "source": []
  }
 ],
 "metadata": {
  "kernelspec": {
   "display_name": "Python 3 (ipykernel)",
   "language": "python",
   "name": "python3"
  },
  "language_info": {
   "codemirror_mode": {
    "name": "ipython",
    "version": 3
   },
   "file_extension": ".py",
   "mimetype": "text/x-python",
   "name": "python",
   "nbconvert_exporter": "python",
   "pygments_lexer": "ipython3",
   "version": "3.12.2"
  }
 },
 "nbformat": 4,
 "nbformat_minor": 5
}
