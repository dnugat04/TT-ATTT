{
 "cells": [
  {
   "cell_type": "code",
   "execution_count": 17,
   "id": "5e45835c-bcc7-4be6-bbc9-0b5ad60cdf05",
   "metadata": {},
   "outputs": [
    {
     "name": "stdin",
     "output_type": "stream",
     "text": [
      "Nhập số báo danh:  30\n"
     ]
    },
    {
     "name": "stdout",
     "output_type": "stream",
     "text": [
      "======================================\n",
      "Thông tin thành phần:\n",
      " p = 113, q = 239, n = 27007\n",
      " phi_n = 26656, e = 2827, d = 2659\n",
      "======================================\n",
      "Bản mã của 153 là: 4026\n",
      "Bản rõ của 4026 là: 153\n"
     ]
    }
   ],
   "source": [
    "import random\n",
    "from math import isqrt\n",
    "\n",
    "def check_prime(n):\n",
    "    if n == 2: \n",
    "        return True\n",
    "    elif n < 2: \n",
    "        return False\n",
    "    else:\n",
    "        for i in range(2, isqrt(n) + 1):\n",
    "            if n % i == 0:\n",
    "                return False\n",
    "        return True\n",
    "\n",
    "def gcd(a, b):\n",
    "    if a % b == 0:\n",
    "        return b\n",
    "    return gcd(b, a % b)\n",
    "\n",
    "def nhanBinhPhuongLap(a, k, n):\n",
    "    b = 1\n",
    "    if k == 0:\n",
    "        return b\n",
    "    A = a\n",
    "    if k % 2 == 1:\n",
    "        b = a\n",
    "    k = k >> 1\n",
    "    while k > 0:\n",
    "        A = A ** 2 % n\n",
    "        if k % 2 == 1:\n",
    "            b = A * b % n\n",
    "        k = k >> 1\n",
    "    return b\n",
    "\n",
    "def Euclide_Extend(a, b):\n",
    "    if b == 0:\n",
    "        return (a, 1, 0)\n",
    "    else:\n",
    "        g, x, y = Euclide_Extend(b, a % b)\n",
    "        return (g, y, x - (a // b) * y)\n",
    "\n",
    "def randomP():\n",
    "    while True:\n",
    "        p = random.randint(100, 500)\n",
    "        if check_prime(p):\n",
    "            return p\n",
    "\n",
    "def randomE(phi_n):\n",
    "    while True:\n",
    "        e = random.randint(2, phi_n)\n",
    "        if gcd(e, phi_n) == 1:\n",
    "            return e\n",
    "\n",
    "if __name__ == '__main__':\n",
    "    q = randomP()\n",
    "    p = randomP()\n",
    "    n = q * p\n",
    "    phi_n = (q - 1) * (p - 1)\n",
    "    e = randomE(phi_n)\n",
    "    _, d, _ = Euclide_Extend(e, phi_n)\n",
    "    d = d % phi_n  # Đảm bảo d là số dương\n",
    "\n",
    "    sbd = int(input('Nhập số báo danh: '))\n",
    "    sbd += 123\n",
    "\n",
    "    print(\"======================================\")\n",
    "    print(f\"Thông tin thành phần:\\n p = {p}, q = {q}, n = {n}\\n phi_n = {phi_n}, e = {e}, d = {d}\")\n",
    "\n",
    "    print(\"======================================\")\n",
    "    cypher = nhanBinhPhuongLap(sbd, e, n)\n",
    "    print(f\"Bản mã của {sbd} là: {cypher}\")\n",
    "\n",
    "    text = nhanBinhPhuongLap(cypher, d, n)\n",
    "    print(f\"Bản rõ của {cypher} là: {text}\")\n"
   ]
  },
  {
   "cell_type": "code",
   "execution_count": null,
   "id": "cba64466-da1c-4f56-b1da-6774e640ad44",
   "metadata": {},
   "outputs": [],
   "source": []
  }
 ],
 "metadata": {
  "kernelspec": {
   "display_name": "Python 3 (ipykernel)",
   "language": "python",
   "name": "python3"
  },
  "language_info": {
   "codemirror_mode": {
    "name": "ipython",
    "version": 3
   },
   "file_extension": ".py",
   "mimetype": "text/x-python",
   "name": "python",
   "nbconvert_exporter": "python",
   "pygments_lexer": "ipython3",
   "version": "3.12.2"
  }
 },
 "nbformat": 4,
 "nbformat_minor": 5
}
