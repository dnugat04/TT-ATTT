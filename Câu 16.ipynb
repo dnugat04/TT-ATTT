{
 "cells": [
  {
   "cell_type": "code",
   "execution_count": 2,
   "id": "6b0320b7-b096-424f-96d7-3e66d9520c18",
   "metadata": {},
   "outputs": [
    {
     "name": "stdin",
     "output_type": "stream",
     "text": [
      "Nhập vào số phần tử mảng:  5\n"
     ]
    },
    {
     "name": "stdout",
     "output_type": "stream",
     "text": [
      "Mảng sau khi sinh ngẫu nhiên: \n",
      "[69304, 74776, 6151, 95895, 93887]\n",
      "Các số nguyên tố trong mảng:\n",
      "6151 93887 "
     ]
    }
   ],
   "source": [
    "import random\n",
    "import time\n",
    "from math import *\n",
    "random.seed(time.time())\n",
    "def isPrime(n):\n",
    "    if n<2:\n",
    "        return False\n",
    "    for i in range(2,isqrt(n)+1):\n",
    "        if n % i == 0:\n",
    "            return False\n",
    "    return True\n",
    "if __name__ == '__main__':\n",
    "    n = int(input('Nhập vào số phần tử mảng: '))\n",
    "    arr = []\n",
    "    prime =[]\n",
    "    for i in range(n):\n",
    "        x = random.randint(0,10**5)\n",
    "        arr.append(x)\n",
    "        if isPrime(x):\n",
    "            prime.append(x)\n",
    "    print('Mảng sau khi sinh ngẫu nhiên: ')\n",
    "    print(arr)\n",
    "    if len(prime)==0: \n",
    "        print('Không có số nguyên tố nào trong mảng')\n",
    "    else: \n",
    "        print('Các số nguyên tố trong mảng:')\n",
    "        for i in prime:\n",
    "            print(i,end=' ')"
   ]
  },
  {
   "cell_type": "code",
   "execution_count": null,
   "id": "5b81d887-4fd9-47e9-9947-52a7faa709ef",
   "metadata": {},
   "outputs": [],
   "source": []
  }
 ],
 "metadata": {
  "kernelspec": {
   "display_name": "Python 3 (ipykernel)",
   "language": "python",
   "name": "python3"
  },
  "language_info": {
   "codemirror_mode": {
    "name": "ipython",
    "version": 3
   },
   "file_extension": ".py",
   "mimetype": "text/x-python",
   "name": "python",
   "nbconvert_exporter": "python",
   "pygments_lexer": "ipython3",
   "version": "3.12.2"
  }
 },
 "nbformat": 4,
 "nbformat_minor": 5
}
