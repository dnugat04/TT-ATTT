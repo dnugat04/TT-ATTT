{
 "cells": [
  {
   "cell_type": "code",
   "execution_count": 13,
   "id": "6c1102eb-e2ba-4d5d-8de0-2ca080e59b43",
   "metadata": {},
   "outputs": [
    {
     "name": "stdin",
     "output_type": "stream",
     "text": [
      "Nhập SBD:  190514\n"
     ]
    },
    {
     "name": "stdout",
     "output_type": "stream",
     "text": [
      "Số nguyên tố gần 190514 nhất là:  190507\n",
      "Số cần tìm:  104384\n"
     ]
    }
   ],
   "source": [
    "from math import log2\n",
    "\n",
    "def nhanBinhPhuongLap(a, k, n):\n",
    "    b = 1\n",
    "    if k == 0:\n",
    "        return b\n",
    "    A = a\n",
    "    if k % 2 == 1:\n",
    "        b = a\n",
    "    k = k >> 1\n",
    "    while k>0:\n",
    "        A = A ** 2 % n\n",
    "        if k % 2 == 1:\n",
    "            b = A * b % n\n",
    "        k = k >> 1\n",
    "    return b\n",
    "\n",
    "def Eratos(num):\n",
    "    prime = [True for i in range(num + 1)]\n",
    "    prime[0] = prime[1] = False\n",
    "    for i in range(2, num + 1):\n",
    "        if prime[i]:\n",
    "            for j in range(i * i, num + 1, i):\n",
    "                prime[j] = False\n",
    "    return prime\n",
    "\n",
    "def SoNhoHon(num, prime):\n",
    "    q = num - 1\n",
    "    while q > 0 and not prime[q]:\n",
    "        q -= 1\n",
    "    return q\n",
    "\n",
    "def SoLonHon(num, prime):\n",
    "    p = num + 1\n",
    "    while p <= len(prime) - 1 and not prime[p]:\n",
    "        p += 1\n",
    "    return p\n",
    "\n",
    "if __name__ == '__main__':\n",
    "    a = int(input('Nhập SBD: '))\n",
    "  \n",
    "    prime = Eratos(2000000)\n",
    "    if prime[a]:\n",
    "        num_q = SoNhoHon(a, prime)\n",
    "        num_p = SoLonHon(a, prime)\n",
    "    else:\n",
    "        num_q = SoNhoHon(a, prime)\n",
    "        num_p = SoLonHon(a, prime)\n",
    "    \n",
    "    if abs(a - num_q) == abs(a - num_p):\n",
    "        k = num_q\n",
    "    elif abs(a - num_q) > abs(a - num_p):\n",
    "        k = num_p\n",
    "    else:\n",
    "        k = num_q\n",
    "\n",
    "    print(f'Số nguyên tố gần {a} nhất là: ',k)\n",
    "\n",
    "    n = 123456\n",
    "    result = nhanBinhPhuongLap(a, k, n)\n",
    "    print('Số cần tìm: ',result)"
   ]
  },
  {
   "cell_type": "code",
   "execution_count": 16,
   "id": "305af3df-bd6c-4add-874d-4a4a142ed477",
   "metadata": {},
   "outputs": [
    {
     "name": "stdout",
     "output_type": "stream",
     "text": [
      "Nhập vào mã sinh viên: "
     ]
    },
    {
     "name": "stdin",
     "output_type": "stream",
     "text": [
      " 522\n"
     ]
    },
    {
     "name": "stdout",
     "output_type": "stream",
     "text": [
      "Nhập vào số báo danh: "
     ]
    },
    {
     "name": "stdin",
     "output_type": "stream",
     "text": [
      " 123\n"
     ]
    },
    {
     "name": "stdout",
     "output_type": "stream",
     "text": [
      "Số nguyên tố gần 522 là 521\n",
      "Kết quả: 89499\n"
     ]
    }
   ],
   "source": [
    "from math import *\n",
    "def nhap_so_nguyen():\n",
    "    while True:\n",
    "        try:\n",
    "            so_nguyen = int(input())\n",
    "            return so_nguyen\n",
    "        except ValueError:\n",
    "            print(\"Vui lòng nhập lại!!!\")\n",
    "def laSoNT(n):\n",
    "    if n < 2:\n",
    "        return False\n",
    "    for i in range (2, isqrt(n) + 1):\n",
    "        if n % i == 0:\n",
    "            return False\n",
    "    return True\n",
    "def nhanBinhPhuongLap(a,k,n):\n",
    "    b = 1\n",
    "    if k == 0:\n",
    "        return b\n",
    "    A = a\n",
    "    if k % 2 == 1:\n",
    "        b = a\n",
    "    k = k>>1\n",
    "    while k > 0:\n",
    "        A = A**2 %n\n",
    "        if k%2==1:\n",
    "            b = b*A %n\n",
    "        k = k>>1\n",
    "    return b\n",
    "def timSNT(n):\n",
    "    lower = n - 1\n",
    "    upper = n + 1\n",
    "    \n",
    "    while True:\n",
    "        if laSoNT(lower):\n",
    "            return lower\n",
    "        elif laSoNT(upper):\n",
    "            return upper \n",
    "        lower -= 1\n",
    "        upper += 1\n",
    "    \n",
    "def main():\n",
    "    while(True):\n",
    "        print(f\"Nhập vào mã sinh viên: \",end=\"\")\n",
    "        msv = nhap_so_nguyen()\n",
    "        print(f\"Nhập vào số báo danh: \",end=\"\")\n",
    "        sbd = nhap_so_nguyen()\n",
    "        if msv>0 and sbd>0:\n",
    "            break\n",
    "        else:\n",
    "            print(f\"Vui lòng nhập lại!!!\")\n",
    "    k = timSNT(msv)\n",
    "    print(f\"Số nguyên tố gần {msv} là {k}\")\n",
    "    print(f\"Kết quả: {nhanBinhPhuongLap(sbd, k, 123456)}\")\n",
    "    \n",
    "main()"
   ]
  },
  {
   "cell_type": "code",
   "execution_count": null,
   "id": "68154a8a-d137-426a-91b3-806992fa7f3b",
   "metadata": {},
   "outputs": [],
   "source": []
  }
 ],
 "metadata": {
  "kernelspec": {
   "display_name": "Python 3 (ipykernel)",
   "language": "python",
   "name": "python3"
  },
  "language_info": {
   "codemirror_mode": {
    "name": "ipython",
    "version": 3
   },
   "file_extension": ".py",
   "mimetype": "text/x-python",
   "name": "python",
   "nbconvert_exporter": "python",
   "pygments_lexer": "ipython3",
   "version": "3.12.2"
  }
 },
 "nbformat": 4,
 "nbformat_minor": 5
}
