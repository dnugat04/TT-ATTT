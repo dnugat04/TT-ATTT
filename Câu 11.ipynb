{
 "cells": [
  {
   "cell_type": "code",
   "execution_count": 2,
   "id": "9aabbceb-b341-41c8-9661-11547a9575da",
   "metadata": {},
   "outputs": [
    {
     "name": "stdin",
     "output_type": "stream",
     "text": [
      "Nhập n:  10\n"
     ]
    },
    {
     "name": "stdout",
     "output_type": "stream",
     "text": [
      "Tổng các số nguyên tố :  17\n"
     ]
    }
   ],
   "source": [
    "from math import *\n",
    "def sieve(n):\n",
    "    prime = [True] * 1001\n",
    "    prime[0],prime[1] = False,False\n",
    "    for i in range(2,isqrt(n)+1):\n",
    "        if prime[i]:\n",
    "            for j in range(i*i,n+1,i):\n",
    "                prime[j] = False\n",
    "    sum = 0\n",
    "    for p in range(1,n+1):\n",
    "        if prime[p]:\n",
    "            sum += p\n",
    "    print('Tổng các số nguyên tố : ',sum)\n",
    "if __name__ == '__main__':\n",
    "    n = int(input('Nhập n: '))\n",
    "    sieve(n)"
   ]
  },
  {
   "cell_type": "code",
   "execution_count": null,
   "id": "df789c04-5c56-4854-90ca-fd0326986683",
   "metadata": {},
   "outputs": [],
   "source": []
  }
 ],
 "metadata": {
  "kernelspec": {
   "display_name": "Python 3 (ipykernel)",
   "language": "python",
   "name": "python3"
  },
  "language_info": {
   "codemirror_mode": {
    "name": "ipython",
    "version": 3
   },
   "file_extension": ".py",
   "mimetype": "text/x-python",
   "name": "python",
   "nbconvert_exporter": "python",
   "pygments_lexer": "ipython3",
   "version": "3.12.2"
  }
 },
 "nbformat": 4,
 "nbformat_minor": 5
}
