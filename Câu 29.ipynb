{
 "cells": [
  {
   "cell_type": "code",
   "execution_count": 2,
   "id": "b54d80d4-9bd7-44e9-9992-f137453d7feb",
   "metadata": {},
   "outputs": [
    {
     "name": "stdin",
     "output_type": "stream",
     "text": [
      "Nhập n:  1202\n"
     ]
    },
    {
     "name": "stdout",
     "output_type": "stream",
     "text": [
      "Số lượng thỏa mãn: \n",
      "2\n"
     ]
    }
   ],
   "source": [
    "from math import *\n",
    "def check_prime(n):\n",
    "    if n == 2 : return True\n",
    "    elif n < 2 : return False\n",
    "    else:\n",
    "        for i in range(2,isqrt(n)+1):\n",
    "            if n % i == 0 : \n",
    "                return False\n",
    "        return True\n",
    "def gcd(a,b):\n",
    "    if a % b == 0:\n",
    "        return b\n",
    "    return gcd(b,a%b)\n",
    "def nhanBinhPhuongLap(a,k,n):\n",
    "    b = 1\n",
    "    if k == 0 :\n",
    "        return b\n",
    "    A = a\n",
    "    if k % 2 == 1:\n",
    "        b = a\n",
    "    k = k >> 1\n",
    "    while k > 0 :\n",
    "        A = A ** 2 % n\n",
    "        if k % 2 == 1:\n",
    "            b = A*b %n\n",
    "        k = k >> 1\n",
    "    return b\n",
    "def is_Carmichael(n):\n",
    "    if check_prime(n):\n",
    "        return False\n",
    "    else: \n",
    "        for b in range(2,n):\n",
    "            if gcd(b,n) == 1:\n",
    "                if nhanBinhPhuongLap(b,n-1,n) != 1:\n",
    "                    return False\n",
    "        return True\n",
    "if __name__ == '__main__':\n",
    "    n = int(input('Nhập n: '))\n",
    "    count = 0\n",
    "    print('Số lượng thỏa mãn: ')\n",
    "    for i in range(2,n+1):\n",
    "            if is_Carmichael(i):\n",
    "                count += 1\n",
    "    print(count)"
   ]
  },
  {
   "cell_type": "code",
   "execution_count": null,
   "id": "08cbebb5-1191-40fb-b8fb-b7fd1743900d",
   "metadata": {},
   "outputs": [],
   "source": []
  }
 ],
 "metadata": {
  "kernelspec": {
   "display_name": "Python 3 (ipykernel)",
   "language": "python",
   "name": "python3"
  },
  "language_info": {
   "codemirror_mode": {
    "name": "ipython",
    "version": 3
   },
   "file_extension": ".py",
   "mimetype": "text/x-python",
   "name": "python",
   "nbconvert_exporter": "python",
   "pygments_lexer": "ipython3",
   "version": "3.12.2"
  }
 },
 "nbformat": 4,
 "nbformat_minor": 5
}
