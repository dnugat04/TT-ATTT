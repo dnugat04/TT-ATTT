{
 "cells": [
  {
   "cell_type": "code",
   "execution_count": 2,
   "id": "be9c9dfa-497c-43fd-bcd6-46fc6a3b1781",
   "metadata": {},
   "outputs": [
    {
     "name": "stdin",
     "output_type": "stream",
     "text": [
      "Nhập n:  15\n"
     ]
    },
    {
     "name": "stdout",
     "output_type": "stream",
     "text": [
      "Các số thỏa mãn: \n",
      "2\n",
      "3\n",
      "5\n",
      "7\n",
      "11\n",
      "13\n"
     ]
    }
   ],
   "source": [
    "from math import *\n",
    "prime = [True] * (10**6 + 1)\n",
    "def sieve():\n",
    "    prime[0], prime[1] = False, False\n",
    "    for i in range(2, isqrt(10**6) + 1):\n",
    "        if prime[i]:\n",
    "            for j in range(i * i, 10**6 + 1, i):\n",
    "                prime[j] = False\n",
    "def reverse(n):\n",
    "    lat = 0\n",
    "    while n != 0:\n",
    "        lat = lat * 10 + n % 10 \n",
    "        n //= 10\n",
    "    return lat\n",
    "\n",
    "if __name__ == '__main__':\n",
    "    sieve()\n",
    "    n = int(input('Nhập n: '))\n",
    "    print('Các số thỏa mãn: ')\n",
    "    for i in range(2, n):\n",
    "        if prime[i]:\n",
    "            reversed_i = reverse(i)\n",
    "            if prime[reversed_i]:  \n",
    "                print(i)"
   ]
  },
  {
   "cell_type": "code",
   "execution_count": null,
   "id": "ede42894-f3d4-4e20-84e2-c03de4ce9026",
   "metadata": {},
   "outputs": [],
   "source": []
  }
 ],
 "metadata": {
  "kernelspec": {
   "display_name": "Python 3 (ipykernel)",
   "language": "python",
   "name": "python3"
  },
  "language_info": {
   "codemirror_mode": {
    "name": "ipython",
    "version": 3
   },
   "file_extension": ".py",
   "mimetype": "text/x-python",
   "name": "python",
   "nbconvert_exporter": "python",
   "pygments_lexer": "ipython3",
   "version": "3.12.2"
  }
 },
 "nbformat": 4,
 "nbformat_minor": 5
}
