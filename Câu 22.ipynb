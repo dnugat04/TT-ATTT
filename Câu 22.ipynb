{
 "cells": [
  {
   "cell_type": "code",
   "execution_count": 1,
   "id": "8f21a3dd-13e7-4568-b169-282df93150c1",
   "metadata": {},
   "outputs": [
    {
     "name": "stdin",
     "output_type": "stream",
     "text": [
      " -5\n",
      "Vui lòng nhập vào một số thỏa mãn:  10000000\n",
      "Vui lòng nhập vào một số thỏa mãn:  5\n",
      " 15\n"
     ]
    },
    {
     "name": "stdout",
     "output_type": "stream",
     "text": [
      "Tổng thoả mãn = 466\n"
     ]
    }
   ],
   "source": [
    "from math import *\n",
    "def seive(n):\n",
    "    prime=[True for i in range(0,n+1)]\n",
    "    prime[0] = False\n",
    "    prime[1] = False\n",
    "    for i in range(2,isqrt(n)+1):\n",
    "        if prime[i]:\n",
    "            for j in range(i*i,n+1,i):\n",
    "                prime[j]=False\n",
    "    return prime\n",
    "def laySoThoaMan():\n",
    "    n = int(input())\n",
    "    while n<0 or n >100000:\n",
    "        n = int(input('Vui lòng nhập vào một số thỏa mãn: '))\n",
    "    return n\n",
    "if __name__ == '__main__':\n",
    "    l = laySoThoaMan()\n",
    "    r = laySoThoaMan()\n",
    "    prime = seive(r)\n",
    "    res = []\n",
    "    for i in range(l,r+1):\n",
    "        if prime[i]:\n",
    "            res.append(i)\n",
    "    sum = 0\n",
    "    for i in range(0,len(res)-1):\n",
    "        for j in range(i+1,len(res)):\n",
    "            sum+= res[i]*res[j]\n",
    "    print('Tổng thoả mãn =',sum)"
   ]
  },
  {
   "cell_type": "code",
   "execution_count": null,
   "id": "0f5bd598-3698-4fc7-ada3-dd592a5a960f",
   "metadata": {},
   "outputs": [],
   "source": []
  }
 ],
 "metadata": {
  "kernelspec": {
   "display_name": "Python 3 (ipykernel)",
   "language": "python",
   "name": "python3"
  },
  "language_info": {
   "codemirror_mode": {
    "name": "ipython",
    "version": 3
   },
   "file_extension": ".py",
   "mimetype": "text/x-python",
   "name": "python",
   "nbconvert_exporter": "python",
   "pygments_lexer": "ipython3",
   "version": "3.12.2"
  }
 },
 "nbformat": 4,
 "nbformat_minor": 5
}
