{
 "cells": [
  {
   "cell_type": "code",
   "execution_count": 1,
   "id": "6235554a-82c1-41b4-875a-df2d0e599652",
   "metadata": {},
   "outputs": [
    {
     "name": "stdin",
     "output_type": "stream",
     "text": [
      "Nhập n:  154151411\n",
      "Nhập số lần kiểm tra:  5\n"
     ]
    },
    {
     "name": "stdout",
     "output_type": "stream",
     "text": [
      "154151411 có khả năng là số nguyên tố với xác suất 0.999023\n"
     ]
    }
   ],
   "source": [
    "import random\n",
    "\n",
    "def nhanBinhPhuongLap(a, k, n):\n",
    "    b = 1\n",
    "    if k == 0:\n",
    "        return b\n",
    "    A = a\n",
    "    if k % 2 == 1:\n",
    "        b = a\n",
    "    k = k >> 1\n",
    "    while k > 0:\n",
    "        A = A**2 %n\n",
    "        if k % 2 == 1:\n",
    "            b = A*b % n\n",
    "        k = k >> 1\n",
    "    return b\n",
    "def miller_rabin_test(d, n):\n",
    "    a = random.randint(2, n - 2)\n",
    "    x = nhanBinhPhuongLap(a, d, n)\n",
    "    if x == 1 or x == n - 1:\n",
    "        return True\n",
    "    while d != n - 1:\n",
    "        x = (x * x) % n\n",
    "        d *= 2\n",
    "        if x == 1:\n",
    "            return False\n",
    "        if x == n - 1:\n",
    "            return True # xác định x trở thành căn bậc 2 không tầm thường của 1 theo mod n\n",
    "    return False\n",
    "\n",
    "def is_prime_miller_rabin(n, k):\n",
    "    if n <= 1:\n",
    "        return False\n",
    "    if n <= 3:\n",
    "        return True\n",
    "    if n % 2 == 0:\n",
    "        return False\n",
    "    d = n - 1\n",
    "    while d % 2 == 0:\n",
    "        d //= 2\n",
    "    for _ in range(k):\n",
    "        if not miller_rabin_test(d, n):\n",
    "            return False\n",
    "    return True\n",
    "\n",
    "# Kiểm tra Miller-Rabin\n",
    "n = int(input('Nhập n: '))\n",
    "t = int(input('Nhập số lần kiểm tra: '))\n",
    "if is_prime_miller_rabin(n, t):\n",
    "    print(f'{n} có khả năng là số nguyên tố với xác suất {1 - 1/(4**t):.6f}')\n",
    "else:\n",
    "    print(f'{n} không phải là số nguyên tố')\n"
   ]
  },
  {
   "cell_type": "code",
   "execution_count": null,
   "id": "884815f9-87c4-4c34-b74e-301bcc5f3f10",
   "metadata": {},
   "outputs": [],
   "source": [
    "# căn bậc 2 không tầm thường của 1 theo mod n là số x tm x^2 = 1 mod n nhưng x không đồng dư với 1 và -1 theo mod n\n"
   ]
  }
 ],
 "metadata": {
  "kernelspec": {
   "display_name": "Python 3 (ipykernel)",
   "language": "python",
   "name": "python3"
  },
  "language_info": {
   "codemirror_mode": {
    "name": "ipython",
    "version": 3
   },
   "file_extension": ".py",
   "mimetype": "text/x-python",
   "name": "python",
   "nbconvert_exporter": "python",
   "pygments_lexer": "ipython3",
   "version": "3.12.2"
  }
 },
 "nbformat": 4,
 "nbformat_minor": 5
}
