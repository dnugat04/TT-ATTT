{
 "cells": [
  {
   "cell_type": "code",
   "execution_count": 2,
   "id": "a9a662d5-c32f-4c93-903a-fb4d762aa1a7",
   "metadata": {},
   "outputs": [
    {
     "name": "stdin",
     "output_type": "stream",
     "text": [
      "Nhập N:  100\n"
     ]
    },
    {
     "name": "stdout",
     "output_type": "stream",
     "text": [
      "2   3   5   7\n"
     ]
    }
   ],
   "source": [
    "from math import *\n",
    "def check_prime(num):\n",
    "    if num < 2:\n",
    "        return False\n",
    "    elif num == 2:\n",
    "        return True\n",
    "    else:\n",
    "        for i in range(2, isqrt(num) + 1):\n",
    "            if num % i == 0:\n",
    "                return False\n",
    "        return True\n",
    "if __name__ == '__main__':\n",
    "    num_n = int(input(\"Nhập N: \"))\n",
    "    prime = [i for i in range(1, num_n) if check_prime(i)]\n",
    "    for i in range(len(prime) - 4):\n",
    "        if check_prime(prime[i] + prime[i + 1] + prime[i + 2] + prime[i + 3]):\n",
    "            print(prime[i], \" \", prime[i + 1], \" \", prime[i + 2], \" \", prime[i + 3])"
   ]
  },
  {
   "cell_type": "code",
   "execution_count": null,
   "id": "71ef4df2-589b-4d44-8a1f-b526428878e4",
   "metadata": {},
   "outputs": [],
   "source": []
  }
 ],
 "metadata": {
  "kernelspec": {
   "display_name": "Python 3 (ipykernel)",
   "language": "python",
   "name": "python3"
  },
  "language_info": {
   "codemirror_mode": {
    "name": "ipython",
    "version": 3
   },
   "file_extension": ".py",
   "mimetype": "text/x-python",
   "name": "python",
   "nbconvert_exporter": "python",
   "pygments_lexer": "ipython3",
   "version": "3.12.2"
  }
 },
 "nbformat": 4,
 "nbformat_minor": 5
}
