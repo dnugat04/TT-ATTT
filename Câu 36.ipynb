{
 "cells": [
  {
   "cell_type": "code",
   "execution_count": 3,
   "id": "8b8b18c5-cfb0-455f-a707-959cfe212924",
   "metadata": {},
   "outputs": [
    {
     "name": "stdin",
     "output_type": "stream",
     "text": [
      "Nhập vào s1:  uua\n",
      "Nhập vào s2:  kdjfsdkjgbnsmdognsdmuua\n"
     ]
    },
    {
     "name": "stdout",
     "output_type": "stream",
     "text": [
      "Tìm thấy s1 tại vị trí 20\n"
     ]
    }
   ],
   "source": [
    "def lastOccurrence(p,T): #trả về ds kí tự đã sắp xếp, và ds vị trí xh cuối cùng\n",
    "    x = list(set(T))\n",
    "    x.sort()\n",
    "    f = []\n",
    "    for i in range(len(x)):\n",
    "        vt=-1\n",
    "        for j in range(len(p)-1,-1,-1):\n",
    "            if p[j]==x[i]: \n",
    "                vt = j\n",
    "                break\n",
    "        f.append(vt)\n",
    "    return x,f\n",
    "    \n",
    "def Boyer_Moore(p,T):\n",
    "    x,f = lastOccurrence(p,T)\n",
    "    L = dict(zip(x,f))\n",
    "    i = len(p)-1\n",
    "    j = len(p)-1\n",
    "    while(i<len(T)):\n",
    "        while (j>=0) and (T[i]==p[j]): \n",
    "            i-=1\n",
    "            j-=1\n",
    "        if (j==-1): \n",
    "            return i+1\n",
    "        else: \n",
    "            i = i+len(p)-min(j,1+L[T[i]])\n",
    "            j = len(p)-1\n",
    "    return -1\n",
    "s1=input('Nhập vào s1: ')\n",
    "s2=input('Nhập vào s2: ')\n",
    "res = Boyer_Moore(s1,s2)\n",
    "if res==-1: \n",
    "    print('Không tìm thấy s1 trong s2')\n",
    "else:\n",
    "    print('Tìm thấy s1 tại vị trí',res)"
   ]
  }
 ],
 "metadata": {
  "kernelspec": {
   "display_name": "Python 3 (ipykernel)",
   "language": "python",
   "name": "python3"
  },
  "language_info": {
   "codemirror_mode": {
    "name": "ipython",
    "version": 3
   },
   "file_extension": ".py",
   "mimetype": "text/x-python",
   "name": "python",
   "nbconvert_exporter": "python",
   "pygments_lexer": "ipython3",
   "version": "3.12.2"
  }
 },
 "nbformat": 4,
 "nbformat_minor": 5
}
