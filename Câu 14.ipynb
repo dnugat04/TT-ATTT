{
 "cells": [
  {
   "cell_type": "code",
   "execution_count": 1,
   "id": "50db1900-675c-4543-b74b-5f75c6131ec3",
   "metadata": {},
   "outputs": [
    {
     "name": "stdout",
     "output_type": "stream",
     "text": [
      "Các số thoả mãn là: \n",
      "521 "
     ]
    }
   ],
   "source": [
    "from math import *\n",
    "def isPrime(n):\n",
    "    if n<2: return False\n",
    "    for i in range(2,isqrt(n)+1):\n",
    "        if n % i == 0:\n",
    "            return False\n",
    "    return True\n",
    "def reverse_interger(n):\n",
    "    r = 0\n",
    "    while n>0:\n",
    "        r = r*10 + n%10\n",
    "        n=n//10\n",
    "    return r\n",
    "print('Các số thoả mãn là: ')\n",
    "for i in range(100,1000):\n",
    "    if isPrime(i):\n",
    "        r = reverse_interger(i)\n",
    "        if int(r**(1/3)) == (r**(1/3)): # kiểm tra xem căn bậc 3 của n có phải số nguyên hay không\n",
    "            print(i,end=' ')"
   ]
  },
  {
   "cell_type": "code",
   "execution_count": null,
   "id": "3f79ab2f-0bf1-4d30-a575-6fc906ac4701",
   "metadata": {},
   "outputs": [],
   "source": []
  }
 ],
 "metadata": {
  "kernelspec": {
   "display_name": "Python 3 (ipykernel)",
   "language": "python",
   "name": "python3"
  },
  "language_info": {
   "codemirror_mode": {
    "name": "ipython",
    "version": 3
   },
   "file_extension": ".py",
   "mimetype": "text/x-python",
   "name": "python",
   "nbconvert_exporter": "python",
   "pygments_lexer": "ipython3",
   "version": "3.12.2"
  }
 },
 "nbformat": 4,
 "nbformat_minor": 5
}
