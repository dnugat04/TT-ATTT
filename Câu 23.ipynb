{
 "cells": [
  {
   "cell_type": "code",
   "execution_count": 1,
   "id": "82258cd0-b1b0-4969-bf0c-62afb702472a",
   "metadata": {},
   "outputs": [
    {
     "name": "stdin",
     "output_type": "stream",
     "text": [
      "Nhập vào A:  2\n",
      "Nhập vào B:  10\n"
     ]
    },
    {
     "name": "stdout",
     "output_type": "stream",
     "text": [
      "YES\n"
     ]
    }
   ],
   "source": [
    "from math import *\n",
    "def isPrime(n):\n",
    "    if n == 2: return True\n",
    "    elif n<2: return False\n",
    "    else:\n",
    "        for i in range(2,isqrt(n)+1):\n",
    "            if n%i == 0:\n",
    "                return False\n",
    "        return True\n",
    "def sieve(n):\n",
    "    prime = [True for i in range(0,n+1)]\n",
    "    prime[0] = prime[1] = False\n",
    "    for i in range(2,isqrt(n)+1):\n",
    "        if prime[i]:\n",
    "            for j in range(i*i,n+1,i):\n",
    "                prime[j] = False\n",
    "    return prime\n",
    "if __name__ == '__main__':\n",
    "    a = int(input('Nhập vào A: '))\n",
    "    b = int(input('Nhập vào B: '))\n",
    "\n",
    "    prime = sieve(b)\n",
    "    sum=0\n",
    "    for i in range(a,b+1):\n",
    "        if prime[i]:\n",
    "            sum+=i\n",
    "\n",
    "    if isPrime(sum):\n",
    "        print('YES')\n",
    "    else: \n",
    "        print('NO')"
   ]
  },
  {
   "cell_type": "code",
   "execution_count": null,
   "id": "0fd8d4bd-ffb6-4569-957d-0f6c673a2a1a",
   "metadata": {},
   "outputs": [],
   "source": []
  }
 ],
 "metadata": {
  "kernelspec": {
   "display_name": "Python 3 (ipykernel)",
   "language": "python",
   "name": "python3"
  },
  "language_info": {
   "codemirror_mode": {
    "name": "ipython",
    "version": 3
   },
   "file_extension": ".py",
   "mimetype": "text/x-python",
   "name": "python",
   "nbconvert_exporter": "python",
   "pygments_lexer": "ipython3",
   "version": "3.12.2"
  }
 },
 "nbformat": 4,
 "nbformat_minor": 5
}
