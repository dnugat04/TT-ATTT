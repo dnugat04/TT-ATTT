{
 "cells": [
  {
   "cell_type": "code",
   "execution_count": 1,
   "id": "554aaae3-1926-44f8-85f1-39988760084c",
   "metadata": {},
   "outputs": [
    {
     "name": "stdin",
     "output_type": "stream",
     "text": [
      "Nhập vào a(x):  1 5 \n"
     ]
    },
    {
     "name": "stdout",
     "output_type": "stream",
     "text": [
      "Giá trị không hợp lệ! Vui lòng nhập một chuỗi nhị phân (chỉ bao gồm 0 và 1).\n"
     ]
    },
    {
     "name": "stdin",
     "output_type": "stream",
     "text": [
      "Nhập vào a(x):  100001\n",
      "Nhập vào g(x):  1000011\n"
     ]
    },
    {
     "name": "stdout",
     "output_type": "stream",
     "text": [
      "Nghịch đảo a(x) = x^1 "
     ]
    }
   ],
   "source": [
    "def nhap_so_nguyen():\n",
    "    while True:\n",
    "        try:\n",
    "            so_nguyen = int(input())\n",
    "            return so_nguyen\n",
    "        except ValueError:\n",
    "            print(\"Vui lòng nhập lại!!!\")\n",
    "def div_and_mod(a,b):  \n",
    "    dec_a = int(a,2)\n",
    "    dec_b = int(b,2)\n",
    "    bin_a = bin(dec_a)[2:]\n",
    "    bin_b = bin(dec_b)[2:]\n",
    "    dec_thuong = 0\n",
    "    while len(bin_a) >= len(bin_b) and (dec_a != 0):\n",
    "        dec_thuong = dec_thuong+(1<<(len(bin_a)-len(bin_b))) #thương = thương + x^(bậc a(x) - bậc b(x))\n",
    "        dec_a = dec_a^(dec_b<<(len(bin_a)-len(bin_b))) # a(x) = a(x) - x^(bậc a(x) - bậc b(x))*b(x)\n",
    "        bin_a = bin(dec_a)[2:] # gán lại giá trị bin_a khi dec_a thay đổi\n",
    "    return bin(dec_thuong)[2:],bin_a # trả về thương và dư \n",
    "\n",
    "def add(a,b):\n",
    "    return bin(int(a,2)^int(b,2))[2:] #phép cộng giưa hai đa thức thực chất là phép xor giữa hai số nhị phân\n",
    "def multi(a,b,gx):\n",
    "    dec_a = int(a,2)\n",
    "    dec_b = int(b,2)\n",
    "    dec_res=0\n",
    "    for i in range(len(b)):\n",
    "        if b[i]=='1':\n",
    "            dec_res = dec_res^(dec_a<<(len(b)-1-i)) #nhân hàm a(x) với từng phần tử của hàm b(x) r cộng lại\n",
    "    tmp_div,tmp_mod = div_and_mod(bin(dec_res)[2:],gx)\n",
    "    return tmp_mod\n",
    "def display(a):\n",
    "    if a == '1': print('1')\n",
    "    elif a== '0': print('0')\n",
    "    else:\n",
    "        vt = 0\n",
    "        for i in range(len(a)):\n",
    "            if a[i] =='1':\n",
    "                if i==len(a)-1:\n",
    "                    print('1',end=' ')\n",
    "                else:\n",
    "                    print(f'x^{len(a)-1-i}',end=' ')   \n",
    "                vt = i\n",
    "                break\n",
    "        for i in range(vt+1,len(a)):\n",
    "            if a[i]=='1':\n",
    "                if i == len(a)-1:\n",
    "                    print('+ 1',end=' ')\n",
    "                else:\n",
    "                    print(f'+ x^{len(a)-1-i}',end=' ')\n",
    "def extendEuclid(a,b):\n",
    "    (u,v) = (a,b)\n",
    "    (x1,x2) = ('0','1')\n",
    "    (y1,y2) =('1','0')\n",
    "    while v !='0':\n",
    "        (q, r) = div_and_mod(u,v)\n",
    "        (x, y) =  (add(x2, multi(q,x1,b)), add(y2, multi(q,y1,a))) # trong đa thức thì cộng trừ là một vd 0 - x = -x = (-1 mod 2)x = x\n",
    "        (x1, x2, y1, y2) = (x, x1, y, y1)\n",
    "        (u, v) = (v, r)\n",
    "    return (u,x2,y2)\n",
    "def is_binary_string(s):\n",
    "    return all(c in '01' for c in s)\n",
    "\n",
    "def get_binary_input(prompt):\n",
    "    while True:\n",
    "        value = input(prompt)\n",
    "        if is_binary_string(value):\n",
    "            return value\n",
    "        else:\n",
    "            print(\"Giá trị không hợp lệ! Vui lòng nhập một chuỗi nhị phân (chỉ bao gồm 0 và 1).\")  \n",
    "def main():\n",
    "    a = get_binary_input('Nhập vào a(x): ')\n",
    "    g = get_binary_input('Nhập vào g(x): ')  \n",
    "    gcd,nghich_dao_a,nghich_dao_g = extendEuclid(a,g) \n",
    "    if gcd=='1':\n",
    "        print('Nghịch đảo a(x) = ',end='')\n",
    "        display(nghich_dao_a)\n",
    "    else:\n",
    "        print('Không có nghịch đảo')        \n",
    "if __name__==\"__main__\":\n",
    "    main()"
   ]
  },
  {
   "cell_type": "code",
   "execution_count": null,
   "id": "706ba4b8-87a8-4c46-8d3b-2056f37b1c86",
   "metadata": {},
   "outputs": [],
   "source": []
  }
 ],
 "metadata": {
  "kernelspec": {
   "display_name": "Python 3 (ipykernel)",
   "language": "python",
   "name": "python3"
  },
  "language_info": {
   "codemirror_mode": {
    "name": "ipython",
    "version": 3
   },
   "file_extension": ".py",
   "mimetype": "text/x-python",
   "name": "python",
   "nbconvert_exporter": "python",
   "pygments_lexer": "ipython3",
   "version": "3.12.2"
  }
 },
 "nbformat": 4,
 "nbformat_minor": 5
}
