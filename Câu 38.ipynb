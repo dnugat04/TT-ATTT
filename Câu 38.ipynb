{
 "cells": [
  {
   "cell_type": "code",
   "execution_count": 4,
   "id": "1706907c-c2ce-4a6d-8331-c13c7fda106a",
   "metadata": {},
   "outputs": [
    {
     "name": "stdin",
     "output_type": "stream",
     "text": [
      "Nhập số a:  561\n",
      "Nhập số p:  13\n"
     ]
    },
    {
     "name": "stdout",
     "output_type": "stream",
     "text": [
      "Nghịch đảo của 561 trong trường F13 là 7\n"
     ]
    }
   ],
   "source": [
    "def extendEuclide(a, b):\n",
    "    if b == 0:\n",
    "        return (a, 1, 0)\n",
    "    else:\n",
    "        g, x, y = extendEuclide(b, a % b)\n",
    "        return (g, y, x - (a // b) * y)\n",
    "\n",
    "a = int(input(\"Nhập số a: \"))\n",
    "p = int(input(\"Nhập số p: \"))\n",
    "\n",
    "g, x, y = extendEuclide(a, p)\n",
    "\n",
    "if g != 1:\n",
    "    print(\"Không có nghịch đảo\")\n",
    "else:\n",
    "    inverse = x % p\n",
    "    print(f\"Nghịch đảo của {a} trong trường F{p} là {inverse}\")"
   ]
  },
  {
   "cell_type": "code",
   "execution_count": null,
   "id": "73e51daf-ab3f-462e-9eb5-a9d77cb6590c",
   "metadata": {},
   "outputs": [],
   "source": []
  }
 ],
 "metadata": {
  "kernelspec": {
   "display_name": "Python 3 (ipykernel)",
   "language": "python",
   "name": "python3"
  },
  "language_info": {
   "codemirror_mode": {
    "name": "ipython",
    "version": 3
   },
   "file_extension": ".py",
   "mimetype": "text/x-python",
   "name": "python",
   "nbconvert_exporter": "python",
   "pygments_lexer": "ipython3",
   "version": "3.12.2"
  }
 },
 "nbformat": 4,
 "nbformat_minor": 5
}
