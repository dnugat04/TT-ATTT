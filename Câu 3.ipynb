{
 "cells": [
  {
   "cell_type": "code",
   "execution_count": 3,
   "id": "2571a535-ce7f-4df8-beed-9617c1d7367c",
   "metadata": {},
   "outputs": [
    {
     "name": "stdin",
     "output_type": "stream",
     "text": [
      "Nhập n:  10\n"
     ]
    },
    {
     "name": "stdout",
     "output_type": "stream",
     "text": [
      "Giá trị cần tính là:  23\n"
     ]
    }
   ],
   "source": [
    "from math import *\n",
    "def check_prime(n):\n",
    "    if n < 2:\n",
    "        return False\n",
    "    else:\n",
    "        for i in range(2, isqrt(n) + 1):\n",
    "            if n % i == 0:\n",
    "                return False\n",
    "        return True\n",
    "def sum_n(n):\n",
    "    k = 0\n",
    "    q = 0\n",
    "    p = 0\n",
    "    s = 0\n",
    "    for i in range(1, n + 1):\n",
    "        if n % i == 0:\n",
    "            p += i\n",
    "            s += 1\n",
    "            if check_prime(i) == 1:\n",
    "                k += 1\n",
    "                q += i\n",
    "    return n + p + s - q - k\n",
    "if __name__ == '__main__':\n",
    "    n = int(input(\"Nhập n: \"))\n",
    "    print(\"Giá trị cần tính là: \", sum_n(n))"
   ]
  },
  {
   "cell_type": "code",
   "execution_count": null,
   "id": "58d6da9b-2b37-4a91-a98d-723b9cfb7414",
   "metadata": {},
   "outputs": [],
   "source": []
  }
 ],
 "metadata": {
  "kernelspec": {
   "display_name": "Python 3 (ipykernel)",
   "language": "python",
   "name": "python3"
  },
  "language_info": {
   "codemirror_mode": {
    "name": "ipython",
    "version": 3
   },
   "file_extension": ".py",
   "mimetype": "text/x-python",
   "name": "python",
   "nbconvert_exporter": "python",
   "pygments_lexer": "ipython3",
   "version": "3.12.2"
  }
 },
 "nbformat": 4,
 "nbformat_minor": 5
}
