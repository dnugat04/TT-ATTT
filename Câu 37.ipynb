{
 "cells": [
  {
   "cell_type": "code",
   "execution_count": 1,
   "id": "8c835240-5f67-42a0-9e67-fac4762fb61a",
   "metadata": {},
   "outputs": [
    {
     "name": "stdin",
     "output_type": "stream",
     "text": [
      "Nhập vào s1:  uaa\n",
      "Nhập vào s2:  nsdgksdnbgsđsugkúakfnsuaa\n"
     ]
    },
    {
     "name": "stdout",
     "output_type": "stream",
     "text": [
      "Tìm thấy s1 tại vị trí 22\n"
     ]
    }
   ],
   "source": [
    "def failure(p):\n",
    "    f = [-1]\n",
    "    for i in range(1,len(p)):\n",
    "        count = 0\n",
    "        for j in range(1,i):\n",
    "            if p[0:j] == p[i-j:i]:\n",
    "                count = j\n",
    "        f.append(count)\n",
    "    return f\n",
    "def Knuth_Morris_Pratt(p,T):\n",
    "    f = failure(p)\n",
    "    i=0\n",
    "    j=0\n",
    "    while(i<=(len(T)-len(p))):\n",
    "        while (j<len(p)) and (p[j]==T[i+j]):\n",
    "            j+=1\n",
    "        if j == len(p):\n",
    "            return i\n",
    "        else:\n",
    "            i = i+j-f[j]\n",
    "            if f[j]==-1: j=0\n",
    "            else: j = f[j]\n",
    "    return -1\n",
    "s1=input('Nhập vào s1: ')\n",
    "s2=input('Nhập vào s2: ')\n",
    "res = Knuth_Morris_Pratt(s1,s2)\n",
    "if res==-1: \n",
    "    print('Không tìm thấy s1 trong s2')\n",
    "else:\n",
    "    print('Tìm thấy s1 tại vị trí',res)"
   ]
  },
  {
   "cell_type": "code",
   "execution_count": null,
   "id": "ebbe5219-4950-48cb-bd5b-a181555edecb",
   "metadata": {},
   "outputs": [],
   "source": []
  }
 ],
 "metadata": {
  "kernelspec": {
   "display_name": "Python 3 (ipykernel)",
   "language": "python",
   "name": "python3"
  },
  "language_info": {
   "codemirror_mode": {
    "name": "ipython",
    "version": 3
   },
   "file_extension": ".py",
   "mimetype": "text/x-python",
   "name": "python",
   "nbconvert_exporter": "python",
   "pygments_lexer": "ipython3",
   "version": "3.12.2"
  }
 },
 "nbformat": 4,
 "nbformat_minor": 5
}
