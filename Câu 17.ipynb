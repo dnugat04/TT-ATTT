{
 "cells": [
  {
   "cell_type": "code",
   "execution_count": 2,
   "id": "4dca5af1-c599-4b7c-94d8-c79f6f6768b4",
   "metadata": {},
   "outputs": [
    {
     "name": "stdin",
     "output_type": "stream",
     "text": [
      "Nhập A: 3\n",
      "Nhập B: 4 \n",
      "Nhập C:  5\n",
      "Nhập n: 18\n"
     ]
    },
    {
     "name": "stdout",
     "output_type": "stream",
     "text": [
      "6 "
     ]
    }
   ],
   "source": [
    "from math import *\n",
    "def check_snt(n):\n",
    "    if n == 2: return True\n",
    "    elif n < 2: return False\n",
    "    else:\n",
    "        for i in range(2,isqrt(n)+1):\n",
    "            if n%i==0:\n",
    "                return False\n",
    "        return True\n",
    "if __name__ == '__main__':\n",
    "    A = int(input('Nhập A:'))\n",
    "    B = int(input('Nhập B:'))\n",
    "    C = int(input('Nhập C: '))\n",
    "    n = int(input('Nhập n:'))\n",
    "    found = False\n",
    "    for i in range(2,n+1):\n",
    "        a = A*i*i + B*i + C\n",
    "        if check_snt(a):\n",
    "            print(i, end = ' ' )\n",
    "            found = True\n",
    "            break"
   ]
  },
  {
   "cell_type": "code",
   "execution_count": null,
   "id": "2f14c800-5312-4447-a876-e57c083d7bf4",
   "metadata": {},
   "outputs": [],
   "source": []
  }
 ],
 "metadata": {
  "kernelspec": {
   "display_name": "Python 3 (ipykernel)",
   "language": "python",
   "name": "python3"
  },
  "language_info": {
   "codemirror_mode": {
    "name": "ipython",
    "version": 3
   },
   "file_extension": ".py",
   "mimetype": "text/x-python",
   "name": "python",
   "nbconvert_exporter": "python",
   "pygments_lexer": "ipython3",
   "version": "3.12.2"
  }
 },
 "nbformat": 4,
 "nbformat_minor": 5
}
