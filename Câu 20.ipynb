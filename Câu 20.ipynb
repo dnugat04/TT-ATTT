{
 "cells": [
  {
   "cell_type": "code",
   "execution_count": 12,
   "id": "11da1059-0dd7-4b7d-8f44-176e31cd3dd8",
   "metadata": {},
   "outputs": [
    {
     "name": "stdin",
     "output_type": "stream",
     "text": [
      " 5\n",
      " 15\n",
      " 3\n"
     ]
    },
    {
     "name": "stdout",
     "output_type": "stream",
     "text": [
      "6 9\n",
      "9 12\n"
     ]
    }
   ],
   "source": [
    "from math import *\n",
    "def find_gcd(a, b):\n",
    "    if b == 0:\n",
    "        return (a, 1, 0)\n",
    "    else:\n",
    "        g, x, y = find_gcd(b, a % b)\n",
    "        return (g, y, x - (a // b) * y)\n",
    "def find(m, n, d):\n",
    "    for i in range(m + 1, n):\n",
    "        for j in range(i + 1, n):\n",
    "            if find_gcd(i, j)[0] == d:  # So sánh với phần tử đầu tiên của bộ ba\n",
    "                print(i, j)\n",
    "def laySoNguyenDuong():\n",
    "    n = int(input())\n",
    "    while n < 0 or n > 1000:\n",
    "        n = int(input('Vui lòng nhập vào một số thỏa mãn: '))\n",
    "    return n                \n",
    "if __name__ == '__main__':\n",
    "    m = laySoNguyenDuong()\n",
    "    n = laySoNguyenDuong()\n",
    "    d = laySoNguyenDuong()\n",
    "    find(m, n, d)\n"
   ]
  },
  {
   "cell_type": "code",
   "execution_count": null,
   "id": "c7690a12-1481-4203-88ab-893775205a14",
   "metadata": {},
   "outputs": [],
   "source": []
  }
 ],
 "metadata": {
  "kernelspec": {
   "display_name": "Python 3 (ipykernel)",
   "language": "python",
   "name": "python3"
  },
  "language_info": {
   "codemirror_mode": {
    "name": "ipython",
    "version": 3
   },
   "file_extension": ".py",
   "mimetype": "text/x-python",
   "name": "python",
   "nbconvert_exporter": "python",
   "pygments_lexer": "ipython3",
   "version": "3.12.2"
  }
 },
 "nbformat": 4,
 "nbformat_minor": 5
}
