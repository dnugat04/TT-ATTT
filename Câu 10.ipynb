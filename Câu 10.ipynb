{
 "cells": [
  {
   "cell_type": "code",
   "execution_count": 2,
   "id": "9740889b-82f5-408f-8ebd-65149e096cee",
   "metadata": {},
   "outputs": [
    {
     "name": "stdin",
     "output_type": "stream",
     "text": [
      " 17\n"
     ]
    },
    {
     "name": "stdout",
     "output_type": "stream",
     "text": [
      "17 có 2 ước số và 1 ước nguyên tố\n"
     ]
    }
   ],
   "source": [
    "from math import *\n",
    "def is_Prime(n):\n",
    "    if n<2: \n",
    "        return False\n",
    "    for i in range(2,isqrt(n)+1):\n",
    "        if n%i==0: \n",
    "            return False\n",
    "    return True\n",
    "if __name__ == '__main__':\n",
    "    n = int(input())\n",
    "    uoc,nt = 0,0\n",
    "    for i in range(1,n+1):\n",
    "        if n%i==0:\n",
    "            uoc +=1\n",
    "            if is_Prime(i):\n",
    "                nt +=1\n",
    "    print(f'{n} có {uoc} ước số và {nt} ước nguyên tố')"
   ]
  },
  {
   "cell_type": "code",
   "execution_count": null,
   "id": "13a01f6d-f72d-463b-8ae5-0504b64e37d0",
   "metadata": {},
   "outputs": [],
   "source": []
  }
 ],
 "metadata": {
  "kernelspec": {
   "display_name": "Python 3 (ipykernel)",
   "language": "python",
   "name": "python3"
  },
  "language_info": {
   "codemirror_mode": {
    "name": "ipython",
    "version": 3
   },
   "file_extension": ".py",
   "mimetype": "text/x-python",
   "name": "python",
   "nbconvert_exporter": "python",
   "pygments_lexer": "ipython3",
   "version": "3.12.2"
  }
 },
 "nbformat": 4,
 "nbformat_minor": 5
}
