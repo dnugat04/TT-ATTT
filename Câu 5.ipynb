{
 "cells": [
  {
   "cell_type": "code",
   "execution_count": 2,
   "id": "48b06eec-56e1-4c8b-9df9-ac2a971664f4",
   "metadata": {},
   "outputs": [
    {
     "name": "stdin",
     "output_type": "stream",
     "text": [
      "Nhập a:  1\n",
      "Nhập b:  10\n"
     ]
    },
    {
     "name": "stdout",
     "output_type": "stream",
     "text": [
      "Tổng các số nguyên tố là:  17\n"
     ]
    }
   ],
   "source": [
    "from math import *\n",
    "def sieve(a,b):\n",
    "    prime = [True] * 1001\n",
    "    prime[0],prime[1] = False, False\n",
    "    for i in range(2,isqrt(b)+1):\n",
    "        if prime[i]:\n",
    "            for j in range(i*i,b+1,i):\n",
    "                prime[j] = False\n",
    "    sum = 0\n",
    "    for p in range(a,b+1):\n",
    "        if prime[p]:\n",
    "            sum +=p\n",
    "    print('Tổng các số nguyên tố là: ',sum)\n",
    "if __name__ == '__main__':\n",
    "    a = int(input('Nhập a: '))\n",
    "    b = int(input('Nhập b: '))\n",
    "    sieve(a,b)"
   ]
  },
  {
   "cell_type": "code",
   "execution_count": null,
   "id": "299ae1a9-27dc-49b7-9c6b-0b4b3c390424",
   "metadata": {},
   "outputs": [],
   "source": []
  }
 ],
 "metadata": {
  "kernelspec": {
   "display_name": "Python 3 (ipykernel)",
   "language": "python",
   "name": "python3"
  },
  "language_info": {
   "codemirror_mode": {
    "name": "ipython",
    "version": 3
   },
   "file_extension": ".py",
   "mimetype": "text/x-python",
   "name": "python",
   "nbconvert_exporter": "python",
   "pygments_lexer": "ipython3",
   "version": "3.12.2"
  }
 },
 "nbformat": 4,
 "nbformat_minor": 5
}
